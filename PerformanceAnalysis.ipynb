{
  "cells": [
    {
      "cell_type": "code",
      "execution_count": 2,
      "metadata": {
        "id": "adf0VCxVe4dg"
      },
      "outputs": [],
      "source": [
        "# Importing the necessary libraries\n",
        "import pandas as pd\n",
        "import seaborn as sns\n",
        "import matplotlib.pyplot as plt\n",
        "from sklearn.preprocessing import LabelEncoder, StandardScaler\n",
        "from sklearn.model_selection import train_test_split, GridSearchCV\n",
        "from sklearn.metrics import accuracy_score, classification_report, confusion_matrix"
      ]
    },
    {
      "cell_type": "code",
      "execution_count": null,
      "metadata": {
        "id": "sUWDdrBae4di"
      },
      "outputs": [],
      "source": [
        "import warnings\n",
        "warnings.filterwarnings('ignore')\n",
        "%matplotlib inline"
      ]
    },
    {
      "cell_type": "markdown",
      "metadata": {
        "id": "5ixAF53ye4di"
      },
      "source": [
        "# Data"
      ]
    },
    {
      "cell_type": "markdown",
      "metadata": {
        "id": "AItn8BV5e4dj"
      },
      "source": [
        "### Importing Raw data"
      ]
    },
    {
      "cell_type": "code",
      "execution_count": 3,
      "metadata": {
        "id": "ngMbNpi0e4dj"
      },
      "outputs": [],
      "source": [
        "# Importing the csv file\n",
        "data = pd.read_excel('EmployeePerformanceData.xls')"
      ]
    },
    {
      "cell_type": "markdown",
      "metadata": {
        "id": "8f22fYKpe4dj"
      },
      "source": [
        "## Source Code"
      ]
    },
    {
      "cell_type": "markdown",
      "metadata": {
        "id": "UgFqaxo9e4dj"
      },
      "source": [
        "### Exploratory Data Analysis"
      ]
    },
    {
      "cell_type": "code",
      "execution_count": 4,
      "metadata": {
        "id": "Da6jyOS_e4dj",
        "outputId": "6c6e5c45-ff27-49ff-9e01-3cfc97883527",
        "colab": {
          "base_uri": "https://localhost:8080/"
        }
      },
      "outputs": [
        {
          "output_type": "execute_result",
          "data": {
            "text/plain": [
              "(1200, 28)"
            ]
          },
          "metadata": {},
          "execution_count": 4
        }
      ],
      "source": [
        "data.shape"
      ]
    },
    {
      "cell_type": "code",
      "execution_count": null,
      "metadata": {
        "id": "Z2eRp1m2e4dk",
        "outputId": "1929fedf-aad5-46f0-d5ad-8fb6f3730962"
      },
      "outputs": [
        {
          "data": {
            "text/plain": [
              "Index(['EmpNumber', 'Age', 'Gender', 'EducationBackground', 'MaritalStatus',\n",
              "       'EmpDepartment', 'EmpJobRole', 'BusinessTravelFrequency',\n",
              "       'DistanceFromHome', 'EmpEducationLevel', 'EmpEnvironmentSatisfaction',\n",
              "       'EmpHourlyRate', 'EmpJobInvolvement', 'EmpJobLevel',\n",
              "       'EmpJobSatisfaction', 'NumCompaniesWorked', 'OverTime',\n",
              "       'EmpLastSalaryHikePercent', 'EmpRelationshipSatisfaction',\n",
              "       'TotalWorkExperienceInYears', 'TrainingTimesLastYear',\n",
              "       'EmpWorkLifeBalance', 'ExperienceYearsAtThisCompany',\n",
              "       'ExperienceYearsInCurrentRole', 'YearsSinceLastPromotion',\n",
              "       'YearsWithCurrManager', 'Attrition', 'PerformanceRating'],\n",
              "      dtype='object')"
            ]
          },
          "execution_count": 86,
          "metadata": {},
          "output_type": "execute_result"
        }
      ],
      "source": [
        "data.columns"
      ]
    },
    {
      "cell_type": "code",
      "execution_count": 5,
      "metadata": {
        "id": "XIscCLcbe4dk",
        "outputId": "8b10905e-8876-44be-c774-883573ccd2af",
        "colab": {
          "base_uri": "https://localhost:8080/",
          "height": 342
        }
      },
      "outputs": [
        {
          "output_type": "execute_result",
          "data": {
            "text/plain": [
              "  EmpNumber  Age Gender EducationBackground MaritalStatus    EmpDepartment  \\\n",
              "0  E1001000   32   Male           Marketing        Single            Sales   \n",
              "1  E1001006   47   Male           Marketing        Single            Sales   \n",
              "2  E1001007   40   Male       Life Sciences       Married            Sales   \n",
              "3  E1001009   41   Male     Human Resources      Divorced  Human Resources   \n",
              "4  E1001010   60   Male           Marketing        Single            Sales   \n",
              "\n",
              "        EmpJobRole BusinessTravelFrequency  DistanceFromHome  \\\n",
              "0  Sales Executive           Travel_Rarely                10   \n",
              "1  Sales Executive           Travel_Rarely                14   \n",
              "2  Sales Executive       Travel_Frequently                 5   \n",
              "3          Manager           Travel_Rarely                10   \n",
              "4  Sales Executive           Travel_Rarely                16   \n",
              "\n",
              "   EmpEducationLevel  ...  EmpRelationshipSatisfaction  \\\n",
              "0                  3  ...                            4   \n",
              "1                  4  ...                            4   \n",
              "2                  4  ...                            3   \n",
              "3                  4  ...                            2   \n",
              "4                  4  ...                            4   \n",
              "\n",
              "   TotalWorkExperienceInYears  TrainingTimesLastYear  EmpWorkLifeBalance  \\\n",
              "0                          10                      2                   2   \n",
              "1                          20                      2                   3   \n",
              "2                          20                      2                   3   \n",
              "3                          23                      2                   2   \n",
              "4                          10                      1                   3   \n",
              "\n",
              "   ExperienceYearsAtThisCompany  ExperienceYearsInCurrentRole  \\\n",
              "0                            10                             7   \n",
              "1                             7                             7   \n",
              "2                            18                            13   \n",
              "3                            21                             6   \n",
              "4                             2                             2   \n",
              "\n",
              "  YearsSinceLastPromotion  YearsWithCurrManager  Attrition  PerformanceRating  \n",
              "0                       0                     8         No                  3  \n",
              "1                       1                     7         No                  3  \n",
              "2                       1                    12         No                  4  \n",
              "3                      12                     6         No                  3  \n",
              "4                       2                     2         No                  3  \n",
              "\n",
              "[5 rows x 28 columns]"
            ],
            "text/html": [
              "\n",
              "  <div id=\"df-41107fd2-8fb2-45bb-a128-5026cb2bb9df\" class=\"colab-df-container\">\n",
              "    <div>\n",
              "<style scoped>\n",
              "    .dataframe tbody tr th:only-of-type {\n",
              "        vertical-align: middle;\n",
              "    }\n",
              "\n",
              "    .dataframe tbody tr th {\n",
              "        vertical-align: top;\n",
              "    }\n",
              "\n",
              "    .dataframe thead th {\n",
              "        text-align: right;\n",
              "    }\n",
              "</style>\n",
              "<table border=\"1\" class=\"dataframe\">\n",
              "  <thead>\n",
              "    <tr style=\"text-align: right;\">\n",
              "      <th></th>\n",
              "      <th>EmpNumber</th>\n",
              "      <th>Age</th>\n",
              "      <th>Gender</th>\n",
              "      <th>EducationBackground</th>\n",
              "      <th>MaritalStatus</th>\n",
              "      <th>EmpDepartment</th>\n",
              "      <th>EmpJobRole</th>\n",
              "      <th>BusinessTravelFrequency</th>\n",
              "      <th>DistanceFromHome</th>\n",
              "      <th>EmpEducationLevel</th>\n",
              "      <th>...</th>\n",
              "      <th>EmpRelationshipSatisfaction</th>\n",
              "      <th>TotalWorkExperienceInYears</th>\n",
              "      <th>TrainingTimesLastYear</th>\n",
              "      <th>EmpWorkLifeBalance</th>\n",
              "      <th>ExperienceYearsAtThisCompany</th>\n",
              "      <th>ExperienceYearsInCurrentRole</th>\n",
              "      <th>YearsSinceLastPromotion</th>\n",
              "      <th>YearsWithCurrManager</th>\n",
              "      <th>Attrition</th>\n",
              "      <th>PerformanceRating</th>\n",
              "    </tr>\n",
              "  </thead>\n",
              "  <tbody>\n",
              "    <tr>\n",
              "      <th>0</th>\n",
              "      <td>E1001000</td>\n",
              "      <td>32</td>\n",
              "      <td>Male</td>\n",
              "      <td>Marketing</td>\n",
              "      <td>Single</td>\n",
              "      <td>Sales</td>\n",
              "      <td>Sales Executive</td>\n",
              "      <td>Travel_Rarely</td>\n",
              "      <td>10</td>\n",
              "      <td>3</td>\n",
              "      <td>...</td>\n",
              "      <td>4</td>\n",
              "      <td>10</td>\n",
              "      <td>2</td>\n",
              "      <td>2</td>\n",
              "      <td>10</td>\n",
              "      <td>7</td>\n",
              "      <td>0</td>\n",
              "      <td>8</td>\n",
              "      <td>No</td>\n",
              "      <td>3</td>\n",
              "    </tr>\n",
              "    <tr>\n",
              "      <th>1</th>\n",
              "      <td>E1001006</td>\n",
              "      <td>47</td>\n",
              "      <td>Male</td>\n",
              "      <td>Marketing</td>\n",
              "      <td>Single</td>\n",
              "      <td>Sales</td>\n",
              "      <td>Sales Executive</td>\n",
              "      <td>Travel_Rarely</td>\n",
              "      <td>14</td>\n",
              "      <td>4</td>\n",
              "      <td>...</td>\n",
              "      <td>4</td>\n",
              "      <td>20</td>\n",
              "      <td>2</td>\n",
              "      <td>3</td>\n",
              "      <td>7</td>\n",
              "      <td>7</td>\n",
              "      <td>1</td>\n",
              "      <td>7</td>\n",
              "      <td>No</td>\n",
              "      <td>3</td>\n",
              "    </tr>\n",
              "    <tr>\n",
              "      <th>2</th>\n",
              "      <td>E1001007</td>\n",
              "      <td>40</td>\n",
              "      <td>Male</td>\n",
              "      <td>Life Sciences</td>\n",
              "      <td>Married</td>\n",
              "      <td>Sales</td>\n",
              "      <td>Sales Executive</td>\n",
              "      <td>Travel_Frequently</td>\n",
              "      <td>5</td>\n",
              "      <td>4</td>\n",
              "      <td>...</td>\n",
              "      <td>3</td>\n",
              "      <td>20</td>\n",
              "      <td>2</td>\n",
              "      <td>3</td>\n",
              "      <td>18</td>\n",
              "      <td>13</td>\n",
              "      <td>1</td>\n",
              "      <td>12</td>\n",
              "      <td>No</td>\n",
              "      <td>4</td>\n",
              "    </tr>\n",
              "    <tr>\n",
              "      <th>3</th>\n",
              "      <td>E1001009</td>\n",
              "      <td>41</td>\n",
              "      <td>Male</td>\n",
              "      <td>Human Resources</td>\n",
              "      <td>Divorced</td>\n",
              "      <td>Human Resources</td>\n",
              "      <td>Manager</td>\n",
              "      <td>Travel_Rarely</td>\n",
              "      <td>10</td>\n",
              "      <td>4</td>\n",
              "      <td>...</td>\n",
              "      <td>2</td>\n",
              "      <td>23</td>\n",
              "      <td>2</td>\n",
              "      <td>2</td>\n",
              "      <td>21</td>\n",
              "      <td>6</td>\n",
              "      <td>12</td>\n",
              "      <td>6</td>\n",
              "      <td>No</td>\n",
              "      <td>3</td>\n",
              "    </tr>\n",
              "    <tr>\n",
              "      <th>4</th>\n",
              "      <td>E1001010</td>\n",
              "      <td>60</td>\n",
              "      <td>Male</td>\n",
              "      <td>Marketing</td>\n",
              "      <td>Single</td>\n",
              "      <td>Sales</td>\n",
              "      <td>Sales Executive</td>\n",
              "      <td>Travel_Rarely</td>\n",
              "      <td>16</td>\n",
              "      <td>4</td>\n",
              "      <td>...</td>\n",
              "      <td>4</td>\n",
              "      <td>10</td>\n",
              "      <td>1</td>\n",
              "      <td>3</td>\n",
              "      <td>2</td>\n",
              "      <td>2</td>\n",
              "      <td>2</td>\n",
              "      <td>2</td>\n",
              "      <td>No</td>\n",
              "      <td>3</td>\n",
              "    </tr>\n",
              "  </tbody>\n",
              "</table>\n",
              "<p>5 rows × 28 columns</p>\n",
              "</div>\n",
              "    <div class=\"colab-df-buttons\">\n",
              "\n",
              "  <div class=\"colab-df-container\">\n",
              "    <button class=\"colab-df-convert\" onclick=\"convertToInteractive('df-41107fd2-8fb2-45bb-a128-5026cb2bb9df')\"\n",
              "            title=\"Convert this dataframe to an interactive table.\"\n",
              "            style=\"display:none;\">\n",
              "\n",
              "  <svg xmlns=\"http://www.w3.org/2000/svg\" height=\"24px\" viewBox=\"0 -960 960 960\">\n",
              "    <path d=\"M120-120v-720h720v720H120Zm60-500h600v-160H180v160Zm220 220h160v-160H400v160Zm0 220h160v-160H400v160ZM180-400h160v-160H180v160Zm440 0h160v-160H620v160ZM180-180h160v-160H180v160Zm440 0h160v-160H620v160Z\"/>\n",
              "  </svg>\n",
              "    </button>\n",
              "\n",
              "  <style>\n",
              "    .colab-df-container {\n",
              "      display:flex;\n",
              "      gap: 12px;\n",
              "    }\n",
              "\n",
              "    .colab-df-convert {\n",
              "      background-color: #E8F0FE;\n",
              "      border: none;\n",
              "      border-radius: 50%;\n",
              "      cursor: pointer;\n",
              "      display: none;\n",
              "      fill: #1967D2;\n",
              "      height: 32px;\n",
              "      padding: 0 0 0 0;\n",
              "      width: 32px;\n",
              "    }\n",
              "\n",
              "    .colab-df-convert:hover {\n",
              "      background-color: #E2EBFA;\n",
              "      box-shadow: 0px 1px 2px rgba(60, 64, 67, 0.3), 0px 1px 3px 1px rgba(60, 64, 67, 0.15);\n",
              "      fill: #174EA6;\n",
              "    }\n",
              "\n",
              "    .colab-df-buttons div {\n",
              "      margin-bottom: 4px;\n",
              "    }\n",
              "\n",
              "    [theme=dark] .colab-df-convert {\n",
              "      background-color: #3B4455;\n",
              "      fill: #D2E3FC;\n",
              "    }\n",
              "\n",
              "    [theme=dark] .colab-df-convert:hover {\n",
              "      background-color: #434B5C;\n",
              "      box-shadow: 0px 1px 3px 1px rgba(0, 0, 0, 0.15);\n",
              "      filter: drop-shadow(0px 1px 2px rgba(0, 0, 0, 0.3));\n",
              "      fill: #FFFFFF;\n",
              "    }\n",
              "  </style>\n",
              "\n",
              "    <script>\n",
              "      const buttonEl =\n",
              "        document.querySelector('#df-41107fd2-8fb2-45bb-a128-5026cb2bb9df button.colab-df-convert');\n",
              "      buttonEl.style.display =\n",
              "        google.colab.kernel.accessAllowed ? 'block' : 'none';\n",
              "\n",
              "      async function convertToInteractive(key) {\n",
              "        const element = document.querySelector('#df-41107fd2-8fb2-45bb-a128-5026cb2bb9df');\n",
              "        const dataTable =\n",
              "          await google.colab.kernel.invokeFunction('convertToInteractive',\n",
              "                                                    [key], {});\n",
              "        if (!dataTable) return;\n",
              "\n",
              "        const docLinkHtml = 'Like what you see? Visit the ' +\n",
              "          '<a target=\"_blank\" href=https://colab.research.google.com/notebooks/data_table.ipynb>data table notebook</a>'\n",
              "          + ' to learn more about interactive tables.';\n",
              "        element.innerHTML = '';\n",
              "        dataTable['output_type'] = 'display_data';\n",
              "        await google.colab.output.renderOutput(dataTable, element);\n",
              "        const docLink = document.createElement('div');\n",
              "        docLink.innerHTML = docLinkHtml;\n",
              "        element.appendChild(docLink);\n",
              "      }\n",
              "    </script>\n",
              "  </div>\n",
              "\n",
              "\n",
              "<div id=\"df-3affc570-412a-4554-9b7c-f442d4dbd394\">\n",
              "  <button class=\"colab-df-quickchart\" onclick=\"quickchart('df-3affc570-412a-4554-9b7c-f442d4dbd394')\"\n",
              "            title=\"Suggest charts\"\n",
              "            style=\"display:none;\">\n",
              "\n",
              "<svg xmlns=\"http://www.w3.org/2000/svg\" height=\"24px\"viewBox=\"0 0 24 24\"\n",
              "     width=\"24px\">\n",
              "    <g>\n",
              "        <path d=\"M19 3H5c-1.1 0-2 .9-2 2v14c0 1.1.9 2 2 2h14c1.1 0 2-.9 2-2V5c0-1.1-.9-2-2-2zM9 17H7v-7h2v7zm4 0h-2V7h2v10zm4 0h-2v-4h2v4z\"/>\n",
              "    </g>\n",
              "</svg>\n",
              "  </button>\n",
              "\n",
              "<style>\n",
              "  .colab-df-quickchart {\n",
              "      --bg-color: #E8F0FE;\n",
              "      --fill-color: #1967D2;\n",
              "      --hover-bg-color: #E2EBFA;\n",
              "      --hover-fill-color: #174EA6;\n",
              "      --disabled-fill-color: #AAA;\n",
              "      --disabled-bg-color: #DDD;\n",
              "  }\n",
              "\n",
              "  [theme=dark] .colab-df-quickchart {\n",
              "      --bg-color: #3B4455;\n",
              "      --fill-color: #D2E3FC;\n",
              "      --hover-bg-color: #434B5C;\n",
              "      --hover-fill-color: #FFFFFF;\n",
              "      --disabled-bg-color: #3B4455;\n",
              "      --disabled-fill-color: #666;\n",
              "  }\n",
              "\n",
              "  .colab-df-quickchart {\n",
              "    background-color: var(--bg-color);\n",
              "    border: none;\n",
              "    border-radius: 50%;\n",
              "    cursor: pointer;\n",
              "    display: none;\n",
              "    fill: var(--fill-color);\n",
              "    height: 32px;\n",
              "    padding: 0;\n",
              "    width: 32px;\n",
              "  }\n",
              "\n",
              "  .colab-df-quickchart:hover {\n",
              "    background-color: var(--hover-bg-color);\n",
              "    box-shadow: 0 1px 2px rgba(60, 64, 67, 0.3), 0 1px 3px 1px rgba(60, 64, 67, 0.15);\n",
              "    fill: var(--button-hover-fill-color);\n",
              "  }\n",
              "\n",
              "  .colab-df-quickchart-complete:disabled,\n",
              "  .colab-df-quickchart-complete:disabled:hover {\n",
              "    background-color: var(--disabled-bg-color);\n",
              "    fill: var(--disabled-fill-color);\n",
              "    box-shadow: none;\n",
              "  }\n",
              "\n",
              "  .colab-df-spinner {\n",
              "    border: 2px solid var(--fill-color);\n",
              "    border-color: transparent;\n",
              "    border-bottom-color: var(--fill-color);\n",
              "    animation:\n",
              "      spin 1s steps(1) infinite;\n",
              "  }\n",
              "\n",
              "  @keyframes spin {\n",
              "    0% {\n",
              "      border-color: transparent;\n",
              "      border-bottom-color: var(--fill-color);\n",
              "      border-left-color: var(--fill-color);\n",
              "    }\n",
              "    20% {\n",
              "      border-color: transparent;\n",
              "      border-left-color: var(--fill-color);\n",
              "      border-top-color: var(--fill-color);\n",
              "    }\n",
              "    30% {\n",
              "      border-color: transparent;\n",
              "      border-left-color: var(--fill-color);\n",
              "      border-top-color: var(--fill-color);\n",
              "      border-right-color: var(--fill-color);\n",
              "    }\n",
              "    40% {\n",
              "      border-color: transparent;\n",
              "      border-right-color: var(--fill-color);\n",
              "      border-top-color: var(--fill-color);\n",
              "    }\n",
              "    60% {\n",
              "      border-color: transparent;\n",
              "      border-right-color: var(--fill-color);\n",
              "    }\n",
              "    80% {\n",
              "      border-color: transparent;\n",
              "      border-right-color: var(--fill-color);\n",
              "      border-bottom-color: var(--fill-color);\n",
              "    }\n",
              "    90% {\n",
              "      border-color: transparent;\n",
              "      border-bottom-color: var(--fill-color);\n",
              "    }\n",
              "  }\n",
              "</style>\n",
              "\n",
              "  <script>\n",
              "    async function quickchart(key) {\n",
              "      const quickchartButtonEl =\n",
              "        document.querySelector('#' + key + ' button');\n",
              "      quickchartButtonEl.disabled = true;  // To prevent multiple clicks.\n",
              "      quickchartButtonEl.classList.add('colab-df-spinner');\n",
              "      try {\n",
              "        const charts = await google.colab.kernel.invokeFunction(\n",
              "            'suggestCharts', [key], {});\n",
              "      } catch (error) {\n",
              "        console.error('Error during call to suggestCharts:', error);\n",
              "      }\n",
              "      quickchartButtonEl.classList.remove('colab-df-spinner');\n",
              "      quickchartButtonEl.classList.add('colab-df-quickchart-complete');\n",
              "    }\n",
              "    (() => {\n",
              "      let quickchartButtonEl =\n",
              "        document.querySelector('#df-3affc570-412a-4554-9b7c-f442d4dbd394 button');\n",
              "      quickchartButtonEl.style.display =\n",
              "        google.colab.kernel.accessAllowed ? 'block' : 'none';\n",
              "    })();\n",
              "  </script>\n",
              "</div>\n",
              "\n",
              "    </div>\n",
              "  </div>\n"
            ],
            "application/vnd.google.colaboratory.intrinsic+json": {
              "type": "dataframe",
              "variable_name": "data"
            }
          },
          "metadata": {},
          "execution_count": 5
        }
      ],
      "source": [
        "data.head()"
      ]
    },
    {
      "cell_type": "code",
      "source": [
        "data.tail()"
      ],
      "metadata": {
        "id": "eLeWzI8MfLVs",
        "outputId": "5c432827-9dce-412b-88ff-1f7d7c5e5307",
        "colab": {
          "base_uri": "https://localhost:8080/",
          "height": 342
        }
      },
      "execution_count": 6,
      "outputs": [
        {
          "output_type": "execute_result",
          "data": {
            "text/plain": [
              "     EmpNumber  Age  Gender EducationBackground MaritalStatus EmpDepartment  \\\n",
              "1195   E100992   27  Female             Medical      Divorced         Sales   \n",
              "1196   E100993   37    Male       Life Sciences        Single   Development   \n",
              "1197   E100994   50    Male             Medical       Married   Development   \n",
              "1198   E100995   34  Female             Medical        Single  Data Science   \n",
              "1199   E100998   24  Female       Life Sciences        Single         Sales   \n",
              "\n",
              "            EmpJobRole BusinessTravelFrequency  DistanceFromHome  \\\n",
              "1195   Sales Executive       Travel_Frequently                 3   \n",
              "1196  Senior Developer           Travel_Rarely                10   \n",
              "1197  Senior Developer           Travel_Rarely                28   \n",
              "1198    Data Scientist           Travel_Rarely                 9   \n",
              "1199   Sales Executive           Travel_Rarely                 3   \n",
              "\n",
              "      EmpEducationLevel  ...  EmpRelationshipSatisfaction  \\\n",
              "1195                  1  ...                            2   \n",
              "1196                  2  ...                            1   \n",
              "1197                  1  ...                            3   \n",
              "1198                  3  ...                            2   \n",
              "1199                  2  ...                            1   \n",
              "\n",
              "      TotalWorkExperienceInYears  TrainingTimesLastYear  EmpWorkLifeBalance  \\\n",
              "1195                           6                      3                   3   \n",
              "1196                           4                      2                   3   \n",
              "1197                          20                      3                   3   \n",
              "1198                           9                      3                   4   \n",
              "1199                           4                      3                   3   \n",
              "\n",
              "      ExperienceYearsAtThisCompany  ExperienceYearsInCurrentRole  \\\n",
              "1195                             6                             5   \n",
              "1196                             1                             0   \n",
              "1197                            20                             8   \n",
              "1198                             8                             7   \n",
              "1199                             2                             2   \n",
              "\n",
              "     YearsSinceLastPromotion  YearsWithCurrManager  Attrition  \\\n",
              "1195                       0                     4         No   \n",
              "1196                       0                     0         No   \n",
              "1197                       3                     8         No   \n",
              "1198                       7                     7         No   \n",
              "1199                       2                     0        Yes   \n",
              "\n",
              "      PerformanceRating  \n",
              "1195                  4  \n",
              "1196                  3  \n",
              "1197                  3  \n",
              "1198                  3  \n",
              "1199                  2  \n",
              "\n",
              "[5 rows x 28 columns]"
            ],
            "text/html": [
              "\n",
              "  <div id=\"df-16f3ba51-4258-4948-862d-e1f31abafbc9\" class=\"colab-df-container\">\n",
              "    <div>\n",
              "<style scoped>\n",
              "    .dataframe tbody tr th:only-of-type {\n",
              "        vertical-align: middle;\n",
              "    }\n",
              "\n",
              "    .dataframe tbody tr th {\n",
              "        vertical-align: top;\n",
              "    }\n",
              "\n",
              "    .dataframe thead th {\n",
              "        text-align: right;\n",
              "    }\n",
              "</style>\n",
              "<table border=\"1\" class=\"dataframe\">\n",
              "  <thead>\n",
              "    <tr style=\"text-align: right;\">\n",
              "      <th></th>\n",
              "      <th>EmpNumber</th>\n",
              "      <th>Age</th>\n",
              "      <th>Gender</th>\n",
              "      <th>EducationBackground</th>\n",
              "      <th>MaritalStatus</th>\n",
              "      <th>EmpDepartment</th>\n",
              "      <th>EmpJobRole</th>\n",
              "      <th>BusinessTravelFrequency</th>\n",
              "      <th>DistanceFromHome</th>\n",
              "      <th>EmpEducationLevel</th>\n",
              "      <th>...</th>\n",
              "      <th>EmpRelationshipSatisfaction</th>\n",
              "      <th>TotalWorkExperienceInYears</th>\n",
              "      <th>TrainingTimesLastYear</th>\n",
              "      <th>EmpWorkLifeBalance</th>\n",
              "      <th>ExperienceYearsAtThisCompany</th>\n",
              "      <th>ExperienceYearsInCurrentRole</th>\n",
              "      <th>YearsSinceLastPromotion</th>\n",
              "      <th>YearsWithCurrManager</th>\n",
              "      <th>Attrition</th>\n",
              "      <th>PerformanceRating</th>\n",
              "    </tr>\n",
              "  </thead>\n",
              "  <tbody>\n",
              "    <tr>\n",
              "      <th>1195</th>\n",
              "      <td>E100992</td>\n",
              "      <td>27</td>\n",
              "      <td>Female</td>\n",
              "      <td>Medical</td>\n",
              "      <td>Divorced</td>\n",
              "      <td>Sales</td>\n",
              "      <td>Sales Executive</td>\n",
              "      <td>Travel_Frequently</td>\n",
              "      <td>3</td>\n",
              "      <td>1</td>\n",
              "      <td>...</td>\n",
              "      <td>2</td>\n",
              "      <td>6</td>\n",
              "      <td>3</td>\n",
              "      <td>3</td>\n",
              "      <td>6</td>\n",
              "      <td>5</td>\n",
              "      <td>0</td>\n",
              "      <td>4</td>\n",
              "      <td>No</td>\n",
              "      <td>4</td>\n",
              "    </tr>\n",
              "    <tr>\n",
              "      <th>1196</th>\n",
              "      <td>E100993</td>\n",
              "      <td>37</td>\n",
              "      <td>Male</td>\n",
              "      <td>Life Sciences</td>\n",
              "      <td>Single</td>\n",
              "      <td>Development</td>\n",
              "      <td>Senior Developer</td>\n",
              "      <td>Travel_Rarely</td>\n",
              "      <td>10</td>\n",
              "      <td>2</td>\n",
              "      <td>...</td>\n",
              "      <td>1</td>\n",
              "      <td>4</td>\n",
              "      <td>2</td>\n",
              "      <td>3</td>\n",
              "      <td>1</td>\n",
              "      <td>0</td>\n",
              "      <td>0</td>\n",
              "      <td>0</td>\n",
              "      <td>No</td>\n",
              "      <td>3</td>\n",
              "    </tr>\n",
              "    <tr>\n",
              "      <th>1197</th>\n",
              "      <td>E100994</td>\n",
              "      <td>50</td>\n",
              "      <td>Male</td>\n",
              "      <td>Medical</td>\n",
              "      <td>Married</td>\n",
              "      <td>Development</td>\n",
              "      <td>Senior Developer</td>\n",
              "      <td>Travel_Rarely</td>\n",
              "      <td>28</td>\n",
              "      <td>1</td>\n",
              "      <td>...</td>\n",
              "      <td>3</td>\n",
              "      <td>20</td>\n",
              "      <td>3</td>\n",
              "      <td>3</td>\n",
              "      <td>20</td>\n",
              "      <td>8</td>\n",
              "      <td>3</td>\n",
              "      <td>8</td>\n",
              "      <td>No</td>\n",
              "      <td>3</td>\n",
              "    </tr>\n",
              "    <tr>\n",
              "      <th>1198</th>\n",
              "      <td>E100995</td>\n",
              "      <td>34</td>\n",
              "      <td>Female</td>\n",
              "      <td>Medical</td>\n",
              "      <td>Single</td>\n",
              "      <td>Data Science</td>\n",
              "      <td>Data Scientist</td>\n",
              "      <td>Travel_Rarely</td>\n",
              "      <td>9</td>\n",
              "      <td>3</td>\n",
              "      <td>...</td>\n",
              "      <td>2</td>\n",
              "      <td>9</td>\n",
              "      <td>3</td>\n",
              "      <td>4</td>\n",
              "      <td>8</td>\n",
              "      <td>7</td>\n",
              "      <td>7</td>\n",
              "      <td>7</td>\n",
              "      <td>No</td>\n",
              "      <td>3</td>\n",
              "    </tr>\n",
              "    <tr>\n",
              "      <th>1199</th>\n",
              "      <td>E100998</td>\n",
              "      <td>24</td>\n",
              "      <td>Female</td>\n",
              "      <td>Life Sciences</td>\n",
              "      <td>Single</td>\n",
              "      <td>Sales</td>\n",
              "      <td>Sales Executive</td>\n",
              "      <td>Travel_Rarely</td>\n",
              "      <td>3</td>\n",
              "      <td>2</td>\n",
              "      <td>...</td>\n",
              "      <td>1</td>\n",
              "      <td>4</td>\n",
              "      <td>3</td>\n",
              "      <td>3</td>\n",
              "      <td>2</td>\n",
              "      <td>2</td>\n",
              "      <td>2</td>\n",
              "      <td>0</td>\n",
              "      <td>Yes</td>\n",
              "      <td>2</td>\n",
              "    </tr>\n",
              "  </tbody>\n",
              "</table>\n",
              "<p>5 rows × 28 columns</p>\n",
              "</div>\n",
              "    <div class=\"colab-df-buttons\">\n",
              "\n",
              "  <div class=\"colab-df-container\">\n",
              "    <button class=\"colab-df-convert\" onclick=\"convertToInteractive('df-16f3ba51-4258-4948-862d-e1f31abafbc9')\"\n",
              "            title=\"Convert this dataframe to an interactive table.\"\n",
              "            style=\"display:none;\">\n",
              "\n",
              "  <svg xmlns=\"http://www.w3.org/2000/svg\" height=\"24px\" viewBox=\"0 -960 960 960\">\n",
              "    <path d=\"M120-120v-720h720v720H120Zm60-500h600v-160H180v160Zm220 220h160v-160H400v160Zm0 220h160v-160H400v160ZM180-400h160v-160H180v160Zm440 0h160v-160H620v160ZM180-180h160v-160H180v160Zm440 0h160v-160H620v160Z\"/>\n",
              "  </svg>\n",
              "    </button>\n",
              "\n",
              "  <style>\n",
              "    .colab-df-container {\n",
              "      display:flex;\n",
              "      gap: 12px;\n",
              "    }\n",
              "\n",
              "    .colab-df-convert {\n",
              "      background-color: #E8F0FE;\n",
              "      border: none;\n",
              "      border-radius: 50%;\n",
              "      cursor: pointer;\n",
              "      display: none;\n",
              "      fill: #1967D2;\n",
              "      height: 32px;\n",
              "      padding: 0 0 0 0;\n",
              "      width: 32px;\n",
              "    }\n",
              "\n",
              "    .colab-df-convert:hover {\n",
              "      background-color: #E2EBFA;\n",
              "      box-shadow: 0px 1px 2px rgba(60, 64, 67, 0.3), 0px 1px 3px 1px rgba(60, 64, 67, 0.15);\n",
              "      fill: #174EA6;\n",
              "    }\n",
              "\n",
              "    .colab-df-buttons div {\n",
              "      margin-bottom: 4px;\n",
              "    }\n",
              "\n",
              "    [theme=dark] .colab-df-convert {\n",
              "      background-color: #3B4455;\n",
              "      fill: #D2E3FC;\n",
              "    }\n",
              "\n",
              "    [theme=dark] .colab-df-convert:hover {\n",
              "      background-color: #434B5C;\n",
              "      box-shadow: 0px 1px 3px 1px rgba(0, 0, 0, 0.15);\n",
              "      filter: drop-shadow(0px 1px 2px rgba(0, 0, 0, 0.3));\n",
              "      fill: #FFFFFF;\n",
              "    }\n",
              "  </style>\n",
              "\n",
              "    <script>\n",
              "      const buttonEl =\n",
              "        document.querySelector('#df-16f3ba51-4258-4948-862d-e1f31abafbc9 button.colab-df-convert');\n",
              "      buttonEl.style.display =\n",
              "        google.colab.kernel.accessAllowed ? 'block' : 'none';\n",
              "\n",
              "      async function convertToInteractive(key) {\n",
              "        const element = document.querySelector('#df-16f3ba51-4258-4948-862d-e1f31abafbc9');\n",
              "        const dataTable =\n",
              "          await google.colab.kernel.invokeFunction('convertToInteractive',\n",
              "                                                    [key], {});\n",
              "        if (!dataTable) return;\n",
              "\n",
              "        const docLinkHtml = 'Like what you see? Visit the ' +\n",
              "          '<a target=\"_blank\" href=https://colab.research.google.com/notebooks/data_table.ipynb>data table notebook</a>'\n",
              "          + ' to learn more about interactive tables.';\n",
              "        element.innerHTML = '';\n",
              "        dataTable['output_type'] = 'display_data';\n",
              "        await google.colab.output.renderOutput(dataTable, element);\n",
              "        const docLink = document.createElement('div');\n",
              "        docLink.innerHTML = docLinkHtml;\n",
              "        element.appendChild(docLink);\n",
              "      }\n",
              "    </script>\n",
              "  </div>\n",
              "\n",
              "\n",
              "<div id=\"df-75518054-718f-4aea-ac98-58aef1b6986c\">\n",
              "  <button class=\"colab-df-quickchart\" onclick=\"quickchart('df-75518054-718f-4aea-ac98-58aef1b6986c')\"\n",
              "            title=\"Suggest charts\"\n",
              "            style=\"display:none;\">\n",
              "\n",
              "<svg xmlns=\"http://www.w3.org/2000/svg\" height=\"24px\"viewBox=\"0 0 24 24\"\n",
              "     width=\"24px\">\n",
              "    <g>\n",
              "        <path d=\"M19 3H5c-1.1 0-2 .9-2 2v14c0 1.1.9 2 2 2h14c1.1 0 2-.9 2-2V5c0-1.1-.9-2-2-2zM9 17H7v-7h2v7zm4 0h-2V7h2v10zm4 0h-2v-4h2v4z\"/>\n",
              "    </g>\n",
              "</svg>\n",
              "  </button>\n",
              "\n",
              "<style>\n",
              "  .colab-df-quickchart {\n",
              "      --bg-color: #E8F0FE;\n",
              "      --fill-color: #1967D2;\n",
              "      --hover-bg-color: #E2EBFA;\n",
              "      --hover-fill-color: #174EA6;\n",
              "      --disabled-fill-color: #AAA;\n",
              "      --disabled-bg-color: #DDD;\n",
              "  }\n",
              "\n",
              "  [theme=dark] .colab-df-quickchart {\n",
              "      --bg-color: #3B4455;\n",
              "      --fill-color: #D2E3FC;\n",
              "      --hover-bg-color: #434B5C;\n",
              "      --hover-fill-color: #FFFFFF;\n",
              "      --disabled-bg-color: #3B4455;\n",
              "      --disabled-fill-color: #666;\n",
              "  }\n",
              "\n",
              "  .colab-df-quickchart {\n",
              "    background-color: var(--bg-color);\n",
              "    border: none;\n",
              "    border-radius: 50%;\n",
              "    cursor: pointer;\n",
              "    display: none;\n",
              "    fill: var(--fill-color);\n",
              "    height: 32px;\n",
              "    padding: 0;\n",
              "    width: 32px;\n",
              "  }\n",
              "\n",
              "  .colab-df-quickchart:hover {\n",
              "    background-color: var(--hover-bg-color);\n",
              "    box-shadow: 0 1px 2px rgba(60, 64, 67, 0.3), 0 1px 3px 1px rgba(60, 64, 67, 0.15);\n",
              "    fill: var(--button-hover-fill-color);\n",
              "  }\n",
              "\n",
              "  .colab-df-quickchart-complete:disabled,\n",
              "  .colab-df-quickchart-complete:disabled:hover {\n",
              "    background-color: var(--disabled-bg-color);\n",
              "    fill: var(--disabled-fill-color);\n",
              "    box-shadow: none;\n",
              "  }\n",
              "\n",
              "  .colab-df-spinner {\n",
              "    border: 2px solid var(--fill-color);\n",
              "    border-color: transparent;\n",
              "    border-bottom-color: var(--fill-color);\n",
              "    animation:\n",
              "      spin 1s steps(1) infinite;\n",
              "  }\n",
              "\n",
              "  @keyframes spin {\n",
              "    0% {\n",
              "      border-color: transparent;\n",
              "      border-bottom-color: var(--fill-color);\n",
              "      border-left-color: var(--fill-color);\n",
              "    }\n",
              "    20% {\n",
              "      border-color: transparent;\n",
              "      border-left-color: var(--fill-color);\n",
              "      border-top-color: var(--fill-color);\n",
              "    }\n",
              "    30% {\n",
              "      border-color: transparent;\n",
              "      border-left-color: var(--fill-color);\n",
              "      border-top-color: var(--fill-color);\n",
              "      border-right-color: var(--fill-color);\n",
              "    }\n",
              "    40% {\n",
              "      border-color: transparent;\n",
              "      border-right-color: var(--fill-color);\n",
              "      border-top-color: var(--fill-color);\n",
              "    }\n",
              "    60% {\n",
              "      border-color: transparent;\n",
              "      border-right-color: var(--fill-color);\n",
              "    }\n",
              "    80% {\n",
              "      border-color: transparent;\n",
              "      border-right-color: var(--fill-color);\n",
              "      border-bottom-color: var(--fill-color);\n",
              "    }\n",
              "    90% {\n",
              "      border-color: transparent;\n",
              "      border-bottom-color: var(--fill-color);\n",
              "    }\n",
              "  }\n",
              "</style>\n",
              "\n",
              "  <script>\n",
              "    async function quickchart(key) {\n",
              "      const quickchartButtonEl =\n",
              "        document.querySelector('#' + key + ' button');\n",
              "      quickchartButtonEl.disabled = true;  // To prevent multiple clicks.\n",
              "      quickchartButtonEl.classList.add('colab-df-spinner');\n",
              "      try {\n",
              "        const charts = await google.colab.kernel.invokeFunction(\n",
              "            'suggestCharts', [key], {});\n",
              "      } catch (error) {\n",
              "        console.error('Error during call to suggestCharts:', error);\n",
              "      }\n",
              "      quickchartButtonEl.classList.remove('colab-df-spinner');\n",
              "      quickchartButtonEl.classList.add('colab-df-quickchart-complete');\n",
              "    }\n",
              "    (() => {\n",
              "      let quickchartButtonEl =\n",
              "        document.querySelector('#df-75518054-718f-4aea-ac98-58aef1b6986c button');\n",
              "      quickchartButtonEl.style.display =\n",
              "        google.colab.kernel.accessAllowed ? 'block' : 'none';\n",
              "    })();\n",
              "  </script>\n",
              "</div>\n",
              "\n",
              "    </div>\n",
              "  </div>\n"
            ],
            "application/vnd.google.colaboratory.intrinsic+json": {
              "type": "dataframe"
            }
          },
          "metadata": {},
          "execution_count": 6
        }
      ]
    },
    {
      "cell_type": "code",
      "execution_count": null,
      "metadata": {
        "id": "4KWx8624e4dk",
        "outputId": "1d601036-fd30-4efa-ab72-09f09ac04899"
      },
      "outputs": [
        {
          "name": "stdout",
          "output_type": "stream",
          "text": [
            "<class 'pandas.core.frame.DataFrame'>\n",
            "RangeIndex: 1200 entries, 0 to 1199\n",
            "Data columns (total 28 columns):\n",
            " #   Column                        Non-Null Count  Dtype \n",
            "---  ------                        --------------  ----- \n",
            " 0   EmpNumber                     1200 non-null   object\n",
            " 1   Age                           1200 non-null   int64 \n",
            " 2   Gender                        1200 non-null   object\n",
            " 3   EducationBackground           1200 non-null   object\n",
            " 4   MaritalStatus                 1200 non-null   object\n",
            " 5   EmpDepartment                 1200 non-null   object\n",
            " 6   EmpJobRole                    1200 non-null   object\n",
            " 7   BusinessTravelFrequency       1200 non-null   object\n",
            " 8   DistanceFromHome              1200 non-null   int64 \n",
            " 9   EmpEducationLevel             1200 non-null   int64 \n",
            " 10  EmpEnvironmentSatisfaction    1200 non-null   int64 \n",
            " 11  EmpHourlyRate                 1200 non-null   int64 \n",
            " 12  EmpJobInvolvement             1200 non-null   int64 \n",
            " 13  EmpJobLevel                   1200 non-null   int64 \n",
            " 14  EmpJobSatisfaction            1200 non-null   int64 \n",
            " 15  NumCompaniesWorked            1200 non-null   int64 \n",
            " 16  OverTime                      1200 non-null   object\n",
            " 17  EmpLastSalaryHikePercent      1200 non-null   int64 \n",
            " 18  EmpRelationshipSatisfaction   1200 non-null   int64 \n",
            " 19  TotalWorkExperienceInYears    1200 non-null   int64 \n",
            " 20  TrainingTimesLastYear         1200 non-null   int64 \n",
            " 21  EmpWorkLifeBalance            1200 non-null   int64 \n",
            " 22  ExperienceYearsAtThisCompany  1200 non-null   int64 \n",
            " 23  ExperienceYearsInCurrentRole  1200 non-null   int64 \n",
            " 24  YearsSinceLastPromotion       1200 non-null   int64 \n",
            " 25  YearsWithCurrManager          1200 non-null   int64 \n",
            " 26  Attrition                     1200 non-null   object\n",
            " 27  PerformanceRating             1200 non-null   int64 \n",
            "dtypes: int64(19), object(9)\n",
            "memory usage: 262.6+ KB\n"
          ]
        }
      ],
      "source": [
        "# Looking for missing data\n",
        "data.info()"
      ]
    },
    {
      "cell_type": "markdown",
      "metadata": {
        "id": "h52XDkbMe4dk"
      },
      "source": [
        "## Analysis of Department wise Perfomance"
      ]
    },
    {
      "cell_type": "code",
      "execution_count": 1,
      "metadata": {
        "id": "rT9Az2s0e4dk",
        "outputId": "3a44671e-168f-4563-9a6a-879e44c23152",
        "colab": {
          "base_uri": "https://localhost:8080/",
          "height": 176
        }
      },
      "outputs": [
        {
          "output_type": "error",
          "ename": "NameError",
          "evalue": "name 'data' is not defined",
          "traceback": [
            "\u001b[0;31m---------------------------------------------------------------------------\u001b[0m",
            "\u001b[0;31mNameError\u001b[0m                                 Traceback (most recent call last)",
            "\u001b[0;32m<ipython-input-1-d899dcaaf959>\u001b[0m in \u001b[0;36m<cell line: 2>\u001b[0;34m()\u001b[0m\n\u001b[1;32m      1\u001b[0m \u001b[0;31m# A new pandas Dataframe is created to analyze department wise performance as asked.\u001b[0m\u001b[0;34m\u001b[0m\u001b[0;34m\u001b[0m\u001b[0m\n\u001b[0;32m----> 2\u001b[0;31m \u001b[0mdept\u001b[0m \u001b[0;34m=\u001b[0m \u001b[0mdata\u001b[0m\u001b[0;34m.\u001b[0m\u001b[0miloc\u001b[0m\u001b[0;34m[\u001b[0m\u001b[0;34m:\u001b[0m\u001b[0;34m,\u001b[0m\u001b[0;34m[\u001b[0m\u001b[0;36m5\u001b[0m\u001b[0;34m,\u001b[0m\u001b[0;36m27\u001b[0m\u001b[0;34m]\u001b[0m\u001b[0;34m]\u001b[0m\u001b[0;34m.\u001b[0m\u001b[0mcopy\u001b[0m\u001b[0;34m(\u001b[0m\u001b[0;34m)\u001b[0m\u001b[0;34m\u001b[0m\u001b[0;34m\u001b[0m\u001b[0m\n\u001b[0m\u001b[1;32m      3\u001b[0m \u001b[0mdept_per\u001b[0m \u001b[0;34m=\u001b[0m \u001b[0mdept\u001b[0m\u001b[0;34m.\u001b[0m\u001b[0mcopy\u001b[0m\u001b[0;34m(\u001b[0m\u001b[0;34m)\u001b[0m\u001b[0;34m\u001b[0m\u001b[0;34m\u001b[0m\u001b[0m\n",
            "\u001b[0;31mNameError\u001b[0m: name 'data' is not defined"
          ]
        }
      ],
      "source": [
        "# A new pandas Dataframe is created to analyze department wise performance as asked.\n",
        "dept = data.iloc[:,[5,27]].copy()\n",
        "dept_per = dept.copy()"
      ]
    },
    {
      "cell_type": "code",
      "execution_count": null,
      "metadata": {
        "id": "k3c0MxhQe4dk",
        "outputId": "434a2327-7eb7-4b4e-9cbb-e821c651e591"
      },
      "outputs": [
        {
          "data": {
            "text/plain": [
              "EmpDepartment\n",
              "Data Science              3.050000\n",
              "Development               3.085873\n",
              "Finance                   2.775510\n",
              "Human Resources           2.925926\n",
              "Research & Development    2.921283\n",
              "Sales                     2.860590\n",
              "Name: PerformanceRating, dtype: float64"
            ]
          },
          "execution_count": 90,
          "metadata": {},
          "output_type": "execute_result"
        }
      ],
      "source": [
        "# Finding out the mean performance of all the departments and plotting its bar graph using seaborn.\n",
        "dept_per.groupby(by='EmpDepartment')['PerformanceRating'].mean()"
      ]
    },
    {
      "cell_type": "code",
      "execution_count": null,
      "metadata": {
        "id": "j24IH1gxe4dl",
        "outputId": "8b6025bf-d76d-4fb1-cb44-825d39b3cee7"
      },
      "outputs": [
        {
          "data": {
            "text/plain": [
              "<matplotlib.axes._subplots.AxesSubplot at 0x7ff90e3f59d0>"
            ]
          },
          "execution_count": 91,
          "metadata": {},
          "output_type": "execute_result"
        },
        {
          "data": {
            "image/png": "[encoded data removed]",
            "text/plain": [
              "<Figure size 720x324 with 1 Axes>"
            ]
          },
          "metadata": {
            "needs_background": "light"
          },
          "output_type": "display_data"
        }
      ],
      "source": [
        "plt.figure(figsize=(10,4.5))\n",
        "sns.barplot(dept_per['EmpDepartment'],dept_per['PerformanceRating'])"
      ]
    },
    {
      "cell_type": "code",
      "execution_count": null,
      "metadata": {
        "scrolled": false,
        "id": "ndwjcqere4dl",
        "outputId": "ae92a0ac-d2c0-48b2-b14c-c6fe4bc31a7c"
      },
      "outputs": [
        {
          "data": {
            "text/plain": [
              "EmpDepartment           PerformanceRating\n",
              "Data Science            3                     17\n",
              "                        4                      2\n",
              "                        2                      1\n",
              "Development             3                    304\n",
              "                        4                     44\n",
              "                        2                     13\n",
              "Finance                 3                     30\n",
              "                        2                     15\n",
              "                        4                      4\n",
              "Human Resources         3                     38\n",
              "                        2                     10\n",
              "                        4                      6\n",
              "Research & Development  3                    234\n",
              "                        2                     68\n",
              "                        4                     41\n",
              "Sales                   3                    251\n",
              "                        2                     87\n",
              "                        4                     35\n",
              "Name: PerformanceRating, dtype: int64"
            ]
          },
          "execution_count": 92,
          "metadata": {},
          "output_type": "execute_result"
        }
      ],
      "source": [
        "# Analyze each department separately\n",
        "dept_per.groupby(by='EmpDepartment')['PerformanceRating'].value_counts()"
      ]
    },
    {
      "cell_type": "code",
      "execution_count": null,
      "metadata": {
        "scrolled": true,
        "id": "nPk_TP6Ve4dl"
      },
      "outputs": [],
      "source": [
        "# Creating a new dataframe to analyze each department separately\n",
        "department = pd.get_dummies(dept_per['EmpDepartment'])\n",
        "performance = pd.DataFrame(dept_per['PerformanceRating'])\n",
        "dept_rating = pd.concat([department,performance],axis=1)"
      ]
    },
    {
      "cell_type": "code",
      "execution_count": null,
      "metadata": {
        "scrolled": false,
        "id": "RsX2qC_Le4dl",
        "outputId": "ba051b6c-3669-4913-a9a7-19e45437c349"
      },
      "outputs": [
        {
          "data": {
            "image/png": "[encoded data removed]",
            "text/plain": [
              "<Figure size 1080x720 with 6 Axes>"
            ]
          },
          "metadata": {
            "needs_background": "light"
          },
          "output_type": "display_data"
        }
      ],
      "source": [
        "# Plotting a separate bar graph for performance of each department using seaborn\n",
        "plt.figure(figsize=(15,10))\n",
        "plt.subplot(2,3,1)\n",
        "sns.barplot(dept_rating['PerformanceRating'],dept_rating['Sales'])\n",
        "plt.subplot(2,3,2)\n",
        "sns.barplot(dept_rating['PerformanceRating'],dept_rating['Development'])\n",
        "plt.subplot(2,3,3)\n",
        "sns.barplot(dept_rating['PerformanceRating'],dept_rating['Research & Development'])\n",
        "plt.subplot(2,3,4)\n",
        "sns.barplot(dept_rating['PerformanceRating'],dept_rating['Human Resources'])\n",
        "plt.subplot(2,3,5)\n",
        "sns.barplot(dept_rating['PerformanceRating'],dept_rating['Finance'])\n",
        "plt.subplot(2,3,6)\n",
        "sns.barplot(dept_rating['PerformanceRating'],dept_rating['Data Science'])\n",
        "plt.show()"
      ]
    },
    {
      "cell_type": "markdown",
      "metadata": {
        "id": "yEUBXM4_e4dl"
      },
      "source": [
        "### Data Processing/ Data Munging"
      ]
    },
    {
      "cell_type": "code",
      "execution_count": null,
      "metadata": {
        "scrolled": true,
        "id": "-5VQN2JFe4dl",
        "outputId": "784642fd-487b-49e7-af9a-72d3b4e7d18d"
      },
      "outputs": [
        {
          "name": "stdout",
          "output_type": "stream",
          "text": [
            "[1 1 1 ... 1 0 0]\n",
            "[1 1 1 ... 1 0 0]\n",
            "[2 2 1 ... 3 3 1]\n",
            "[2 2 1 ... 3 3 1]\n",
            "[2 2 1 ... 1 2 2]\n",
            "[2 2 1 ... 1 2 2]\n",
            "[5 5 5 ... 1 0 5]\n",
            "[5 5 5 ... 1 0 5]\n",
            "[13 13 13 ... 15  1 13]\n",
            "[13 13 13 ... 15  1 13]\n",
            "[2 2 1 ... 2 2 2]\n",
            "[2 2 1 ... 2 2 2]\n",
            "[0 0 1 ... 1 0 0]\n",
            "[0 0 1 ... 1 0 0]\n",
            "[0 0 0 ... 0 0 1]\n",
            "[0 0 0 ... 0 0 1]\n"
          ]
        },
        {
          "data": {
            "text/html": [
              "<div>\n",
              "<style scoped>\n",
              "    .dataframe tbody tr th:only-of-type {\n",
              "        vertical-align: middle;\n",
              "    }\n",
              "\n",
              "    .dataframe tbody tr th {\n",
              "        vertical-align: top;\n",
              "    }\n",
              "\n",
              "    .dataframe thead th {\n",
              "        text-align: right;\n",
              "    }\n",
              "</style>\n",
              "<table border=\"1\" class=\"dataframe\">\n",
              "  <thead>\n",
              "    <tr style=\"text-align: right;\">\n",
              "      <th></th>\n",
              "      <th>EmpNumber</th>\n",
              "      <th>Age</th>\n",
              "      <th>Gender</th>\n",
              "      <th>EducationBackground</th>\n",
              "      <th>MaritalStatus</th>\n",
              "      <th>EmpDepartment</th>\n",
              "      <th>EmpJobRole</th>\n",
              "      <th>BusinessTravelFrequency</th>\n",
              "      <th>DistanceFromHome</th>\n",
              "      <th>EmpEducationLevel</th>\n",
              "      <th>...</th>\n",
              "      <th>EmpRelationshipSatisfaction</th>\n",
              "      <th>TotalWorkExperienceInYears</th>\n",
              "      <th>TrainingTimesLastYear</th>\n",
              "      <th>EmpWorkLifeBalance</th>\n",
              "      <th>ExperienceYearsAtThisCompany</th>\n",
              "      <th>ExperienceYearsInCurrentRole</th>\n",
              "      <th>YearsSinceLastPromotion</th>\n",
              "      <th>YearsWithCurrManager</th>\n",
              "      <th>Attrition</th>\n",
              "      <th>PerformanceRating</th>\n",
              "    </tr>\n",
              "  </thead>\n",
              "  <tbody>\n",
              "    <tr>\n",
              "      <th>0</th>\n",
              "      <td>E1001000</td>\n",
              "      <td>32</td>\n",
              "      <td>1</td>\n",
              "      <td>2</td>\n",
              "      <td>2</td>\n",
              "      <td>5</td>\n",
              "      <td>13</td>\n",
              "      <td>2</td>\n",
              "      <td>10</td>\n",
              "      <td>3</td>\n",
              "      <td>...</td>\n",
              "      <td>4</td>\n",
              "      <td>10</td>\n",
              "      <td>2</td>\n",
              "      <td>2</td>\n",
              "      <td>10</td>\n",
              "      <td>7</td>\n",
              "      <td>0</td>\n",
              "      <td>8</td>\n",
              "      <td>0</td>\n",
              "      <td>3</td>\n",
              "    </tr>\n",
              "    <tr>\n",
              "      <th>1</th>\n",
              "      <td>E1001006</td>\n",
              "      <td>47</td>\n",
              "      <td>1</td>\n",
              "      <td>2</td>\n",
              "      <td>2</td>\n",
              "      <td>5</td>\n",
              "      <td>13</td>\n",
              "      <td>2</td>\n",
              "      <td>14</td>\n",
              "      <td>4</td>\n",
              "      <td>...</td>\n",
              "      <td>4</td>\n",
              "      <td>20</td>\n",
              "      <td>2</td>\n",
              "      <td>3</td>\n",
              "      <td>7</td>\n",
              "      <td>7</td>\n",
              "      <td>1</td>\n",
              "      <td>7</td>\n",
              "      <td>0</td>\n",
              "      <td>3</td>\n",
              "    </tr>\n",
              "    <tr>\n",
              "      <th>2</th>\n",
              "      <td>E1001007</td>\n",
              "      <td>40</td>\n",
              "      <td>1</td>\n",
              "      <td>1</td>\n",
              "      <td>1</td>\n",
              "      <td>5</td>\n",
              "      <td>13</td>\n",
              "      <td>1</td>\n",
              "      <td>5</td>\n",
              "      <td>4</td>\n",
              "      <td>...</td>\n",
              "      <td>3</td>\n",
              "      <td>20</td>\n",
              "      <td>2</td>\n",
              "      <td>3</td>\n",
              "      <td>18</td>\n",
              "      <td>13</td>\n",
              "      <td>1</td>\n",
              "      <td>12</td>\n",
              "      <td>0</td>\n",
              "      <td>4</td>\n",
              "    </tr>\n",
              "    <tr>\n",
              "      <th>3</th>\n",
              "      <td>E1001009</td>\n",
              "      <td>41</td>\n",
              "      <td>1</td>\n",
              "      <td>0</td>\n",
              "      <td>0</td>\n",
              "      <td>3</td>\n",
              "      <td>8</td>\n",
              "      <td>2</td>\n",
              "      <td>10</td>\n",
              "      <td>4</td>\n",
              "      <td>...</td>\n",
              "      <td>2</td>\n",
              "      <td>23</td>\n",
              "      <td>2</td>\n",
              "      <td>2</td>\n",
              "      <td>21</td>\n",
              "      <td>6</td>\n",
              "      <td>12</td>\n",
              "      <td>6</td>\n",
              "      <td>0</td>\n",
              "      <td>3</td>\n",
              "    </tr>\n",
              "    <tr>\n",
              "      <th>4</th>\n",
              "      <td>E1001010</td>\n",
              "      <td>60</td>\n",
              "      <td>1</td>\n",
              "      <td>2</td>\n",
              "      <td>2</td>\n",
              "      <td>5</td>\n",
              "      <td>13</td>\n",
              "      <td>2</td>\n",
              "      <td>16</td>\n",
              "      <td>4</td>\n",
              "      <td>...</td>\n",
              "      <td>4</td>\n",
              "      <td>10</td>\n",
              "      <td>1</td>\n",
              "      <td>3</td>\n",
              "      <td>2</td>\n",
              "      <td>2</td>\n",
              "      <td>2</td>\n",
              "      <td>2</td>\n",
              "      <td>0</td>\n",
              "      <td>3</td>\n",
              "    </tr>\n",
              "  </tbody>\n",
              "</table>\n",
              "<p>5 rows × 28 columns</p>\n",
              "</div>"
            ],
            "text/plain": [
              "  EmpNumber  Age  Gender  EducationBackground  MaritalStatus  EmpDepartment  \\\n",
              "0  E1001000   32       1                    2              2              5   \n",
              "1  E1001006   47       1                    2              2              5   \n",
              "2  E1001007   40       1                    1              1              5   \n",
              "3  E1001009   41       1                    0              0              3   \n",
              "4  E1001010   60       1                    2              2              5   \n",
              "\n",
              "   EmpJobRole  BusinessTravelFrequency  DistanceFromHome  EmpEducationLevel  \\\n",
              "0          13                        2                10                  3   \n",
              "1          13                        2                14                  4   \n",
              "2          13                        1                 5                  4   \n",
              "3           8                        2                10                  4   \n",
              "4          13                        2                16                  4   \n",
              "\n",
              "   ...  EmpRelationshipSatisfaction  TotalWorkExperienceInYears  \\\n",
              "0  ...                            4                          10   \n",
              "1  ...                            4                          20   \n",
              "2  ...                            3                          20   \n",
              "3  ...                            2                          23   \n",
              "4  ...                            4                          10   \n",
              "\n",
              "   TrainingTimesLastYear  EmpWorkLifeBalance  ExperienceYearsAtThisCompany  \\\n",
              "0                      2                   2                            10   \n",
              "1                      2                   3                             7   \n",
              "2                      2                   3                            18   \n",
              "3                      2                   2                            21   \n",
              "4                      1                   3                             2   \n",
              "\n",
              "   ExperienceYearsInCurrentRole  YearsSinceLastPromotion  \\\n",
              "0                             7                        0   \n",
              "1                             7                        1   \n",
              "2                            13                        1   \n",
              "3                             6                       12   \n",
              "4                             2                        2   \n",
              "\n",
              "   YearsWithCurrManager  Attrition  PerformanceRating  \n",
              "0                     8          0                  3  \n",
              "1                     7          0                  3  \n",
              "2                    12          0                  4  \n",
              "3                     6          0                  3  \n",
              "4                     2          0                  3  \n",
              "\n",
              "[5 rows x 28 columns]"
            ]
          },
          "execution_count": 77,
          "metadata": {},
          "output_type": "execute_result"
        }
      ],
      "source": [
        "# Encoding all the ordinal columns and creating a dummy variable for them to see if there are any effects on Performance Rating\n",
        "le = LabelEncoder()\n",
        "for i in (2,3,4,5,6,7,16,26):\n",
        "    data.iloc[:,i] = le.fit_transform(data.iloc[:,i])\n",
        "\n",
        "data.head()\n",
        "\n",
        "#print(encoded_labels)\n"
      ]
    },
    {
      "cell_type": "code",
      "execution_count": null,
      "metadata": {
        "id": "zEx5fDj6e4dl",
        "outputId": "f34d4a9b-5688-4d6e-d086-aac269bd93e2"
      },
      "outputs": [
        {
          "data": {
            "text/html": [
              "<div>\n",
              "<style scoped>\n",
              "    .dataframe tbody tr th:only-of-type {\n",
              "        vertical-align: middle;\n",
              "    }\n",
              "\n",
              "    .dataframe tbody tr th {\n",
              "        vertical-align: top;\n",
              "    }\n",
              "\n",
              "    .dataframe thead th {\n",
              "        text-align: right;\n",
              "    }\n",
              "</style>\n",
              "<table border=\"1\" class=\"dataframe\">\n",
              "  <thead>\n",
              "    <tr style=\"text-align: right;\">\n",
              "      <th></th>\n",
              "      <th>EmpDepartment</th>\n",
              "      <th>empdep</th>\n",
              "      <th>EmpJobRole</th>\n",
              "      <th>empjr</th>\n",
              "    </tr>\n",
              "  </thead>\n",
              "  <tbody>\n",
              "    <tr>\n",
              "      <th>0</th>\n",
              "      <td>Sales</td>\n",
              "      <td>5</td>\n",
              "      <td>Sales Executive</td>\n",
              "      <td>13</td>\n",
              "    </tr>\n",
              "    <tr>\n",
              "      <th>1</th>\n",
              "      <td>Sales</td>\n",
              "      <td>5</td>\n",
              "      <td>Sales Executive</td>\n",
              "      <td>13</td>\n",
              "    </tr>\n",
              "    <tr>\n",
              "      <th>2</th>\n",
              "      <td>Sales</td>\n",
              "      <td>5</td>\n",
              "      <td>Sales Executive</td>\n",
              "      <td>13</td>\n",
              "    </tr>\n",
              "    <tr>\n",
              "      <th>3</th>\n",
              "      <td>Human Resources</td>\n",
              "      <td>3</td>\n",
              "      <td>Manager</td>\n",
              "      <td>8</td>\n",
              "    </tr>\n",
              "    <tr>\n",
              "      <th>4</th>\n",
              "      <td>Sales</td>\n",
              "      <td>5</td>\n",
              "      <td>Sales Executive</td>\n",
              "      <td>13</td>\n",
              "    </tr>\n",
              "    <tr>\n",
              "      <th>...</th>\n",
              "      <td>...</td>\n",
              "      <td>...</td>\n",
              "      <td>...</td>\n",
              "      <td>...</td>\n",
              "    </tr>\n",
              "    <tr>\n",
              "      <th>1195</th>\n",
              "      <td>Sales</td>\n",
              "      <td>5</td>\n",
              "      <td>Sales Executive</td>\n",
              "      <td>13</td>\n",
              "    </tr>\n",
              "    <tr>\n",
              "      <th>1196</th>\n",
              "      <td>Development</td>\n",
              "      <td>1</td>\n",
              "      <td>Senior Developer</td>\n",
              "      <td>15</td>\n",
              "    </tr>\n",
              "    <tr>\n",
              "      <th>1197</th>\n",
              "      <td>Development</td>\n",
              "      <td>1</td>\n",
              "      <td>Senior Developer</td>\n",
              "      <td>15</td>\n",
              "    </tr>\n",
              "    <tr>\n",
              "      <th>1198</th>\n",
              "      <td>Data Science</td>\n",
              "      <td>0</td>\n",
              "      <td>Data Scientist</td>\n",
              "      <td>1</td>\n",
              "    </tr>\n",
              "    <tr>\n",
              "      <th>1199</th>\n",
              "      <td>Sales</td>\n",
              "      <td>5</td>\n",
              "      <td>Sales Executive</td>\n",
              "      <td>13</td>\n",
              "    </tr>\n",
              "  </tbody>\n",
              "</table>\n",
              "<p>1200 rows × 4 columns</p>\n",
              "</div>"
            ],
            "text/plain": [
              "        EmpDepartment  empdep        EmpJobRole  empjr\n",
              "0               Sales       5   Sales Executive     13\n",
              "1               Sales       5   Sales Executive     13\n",
              "2               Sales       5   Sales Executive     13\n",
              "3     Human Resources       3           Manager      8\n",
              "4               Sales       5   Sales Executive     13\n",
              "...               ...     ...               ...    ...\n",
              "1195            Sales       5   Sales Executive     13\n",
              "1196      Development       1  Senior Developer     15\n",
              "1197      Development       1  Senior Developer     15\n",
              "1198     Data Science       0    Data Scientist      1\n",
              "1199            Sales       5   Sales Executive     13\n",
              "\n",
              "[1200 rows x 4 columns]"
            ]
          },
          "execution_count": 121,
          "metadata": {},
          "output_type": "execute_result"
        }
      ],
      "source": [
        "le = LabelEncoder()\n",
        "data[\"empdep\"] = le.fit_transform(data[\"EmpDepartment\"])\n",
        "data[\"empjr\"] = le.fit_transform(data[\"EmpJobRole\"])\n",
        "data[[\"EmpDepartment\", \"empdep\", \"EmpJobRole\", \"empjr\"]].head(1200)"
      ]
    },
    {
      "cell_type": "code",
      "execution_count": null,
      "metadata": {
        "scrolled": true,
        "id": "cJjeqGoDe4dl",
        "outputId": "a948031d-ecb6-472b-bc1f-d98ad0defb55"
      },
      "outputs": [
        {
          "data": {
            "text/html": [
              "<div>\n",
              "<style scoped>\n",
              "    .dataframe tbody tr th:only-of-type {\n",
              "        vertical-align: middle;\n",
              "    }\n",
              "\n",
              "    .dataframe tbody tr th {\n",
              "        vertical-align: top;\n",
              "    }\n",
              "\n",
              "    .dataframe thead th {\n",
              "        text-align: right;\n",
              "    }\n",
              "</style>\n",
              "<table border=\"1\" class=\"dataframe\">\n",
              "  <thead>\n",
              "    <tr style=\"text-align: right;\">\n",
              "      <th></th>\n",
              "      <th>EmpNumber</th>\n",
              "      <th>Age</th>\n",
              "      <th>Gender</th>\n",
              "      <th>EducationBackground</th>\n",
              "      <th>MaritalStatus</th>\n",
              "      <th>EmpDepartment</th>\n",
              "      <th>EmpJobRole</th>\n",
              "      <th>BusinessTravelFrequency</th>\n",
              "      <th>DistanceFromHome</th>\n",
              "      <th>EmpEducationLevel</th>\n",
              "      <th>...</th>\n",
              "      <th>TrainingTimesLastYear</th>\n",
              "      <th>EmpWorkLifeBalance</th>\n",
              "      <th>ExperienceYearsAtThisCompany</th>\n",
              "      <th>ExperienceYearsInCurrentRole</th>\n",
              "      <th>YearsSinceLastPromotion</th>\n",
              "      <th>YearsWithCurrManager</th>\n",
              "      <th>Attrition</th>\n",
              "      <th>PerformanceRating</th>\n",
              "      <th>empdep</th>\n",
              "      <th>empjr</th>\n",
              "    </tr>\n",
              "  </thead>\n",
              "  <tbody>\n",
              "    <tr>\n",
              "      <th>0</th>\n",
              "      <td>E1001000</td>\n",
              "      <td>32</td>\n",
              "      <td>Male</td>\n",
              "      <td>Marketing</td>\n",
              "      <td>Single</td>\n",
              "      <td>Sales</td>\n",
              "      <td>Sales Executive</td>\n",
              "      <td>Travel_Rarely</td>\n",
              "      <td>10</td>\n",
              "      <td>3</td>\n",
              "      <td>...</td>\n",
              "      <td>2</td>\n",
              "      <td>2</td>\n",
              "      <td>10</td>\n",
              "      <td>7</td>\n",
              "      <td>0</td>\n",
              "      <td>8</td>\n",
              "      <td>No</td>\n",
              "      <td>3</td>\n",
              "      <td>5</td>\n",
              "      <td>13</td>\n",
              "    </tr>\n",
              "    <tr>\n",
              "      <th>1</th>\n",
              "      <td>E1001006</td>\n",
              "      <td>47</td>\n",
              "      <td>Male</td>\n",
              "      <td>Marketing</td>\n",
              "      <td>Single</td>\n",
              "      <td>Sales</td>\n",
              "      <td>Sales Executive</td>\n",
              "      <td>Travel_Rarely</td>\n",
              "      <td>14</td>\n",
              "      <td>4</td>\n",
              "      <td>...</td>\n",
              "      <td>2</td>\n",
              "      <td>3</td>\n",
              "      <td>7</td>\n",
              "      <td>7</td>\n",
              "      <td>1</td>\n",
              "      <td>7</td>\n",
              "      <td>No</td>\n",
              "      <td>3</td>\n",
              "      <td>5</td>\n",
              "      <td>13</td>\n",
              "    </tr>\n",
              "    <tr>\n",
              "      <th>2</th>\n",
              "      <td>E1001007</td>\n",
              "      <td>40</td>\n",
              "      <td>Male</td>\n",
              "      <td>Life Sciences</td>\n",
              "      <td>Married</td>\n",
              "      <td>Sales</td>\n",
              "      <td>Sales Executive</td>\n",
              "      <td>Travel_Frequently</td>\n",
              "      <td>5</td>\n",
              "      <td>4</td>\n",
              "      <td>...</td>\n",
              "      <td>2</td>\n",
              "      <td>3</td>\n",
              "      <td>18</td>\n",
              "      <td>13</td>\n",
              "      <td>1</td>\n",
              "      <td>12</td>\n",
              "      <td>No</td>\n",
              "      <td>4</td>\n",
              "      <td>5</td>\n",
              "      <td>13</td>\n",
              "    </tr>\n",
              "    <tr>\n",
              "      <th>3</th>\n",
              "      <td>E1001009</td>\n",
              "      <td>41</td>\n",
              "      <td>Male</td>\n",
              "      <td>Human Resources</td>\n",
              "      <td>Divorced</td>\n",
              "      <td>Human Resources</td>\n",
              "      <td>Manager</td>\n",
              "      <td>Travel_Rarely</td>\n",
              "      <td>10</td>\n",
              "      <td>4</td>\n",
              "      <td>...</td>\n",
              "      <td>2</td>\n",
              "      <td>2</td>\n",
              "      <td>21</td>\n",
              "      <td>6</td>\n",
              "      <td>12</td>\n",
              "      <td>6</td>\n",
              "      <td>No</td>\n",
              "      <td>3</td>\n",
              "      <td>3</td>\n",
              "      <td>8</td>\n",
              "    </tr>\n",
              "    <tr>\n",
              "      <th>4</th>\n",
              "      <td>E1001010</td>\n",
              "      <td>60</td>\n",
              "      <td>Male</td>\n",
              "      <td>Marketing</td>\n",
              "      <td>Single</td>\n",
              "      <td>Sales</td>\n",
              "      <td>Sales Executive</td>\n",
              "      <td>Travel_Rarely</td>\n",
              "      <td>16</td>\n",
              "      <td>4</td>\n",
              "      <td>...</td>\n",
              "      <td>1</td>\n",
              "      <td>3</td>\n",
              "      <td>2</td>\n",
              "      <td>2</td>\n",
              "      <td>2</td>\n",
              "      <td>2</td>\n",
              "      <td>No</td>\n",
              "      <td>3</td>\n",
              "      <td>5</td>\n",
              "      <td>13</td>\n",
              "    </tr>\n",
              "  </tbody>\n",
              "</table>\n",
              "<p>5 rows × 30 columns</p>\n",
              "</div>"
            ],
            "text/plain": [
              "  EmpNumber  Age Gender EducationBackground MaritalStatus    EmpDepartment  \\\n",
              "0  E1001000   32   Male           Marketing        Single            Sales   \n",
              "1  E1001006   47   Male           Marketing        Single            Sales   \n",
              "2  E1001007   40   Male       Life Sciences       Married            Sales   \n",
              "3  E1001009   41   Male     Human Resources      Divorced  Human Resources   \n",
              "4  E1001010   60   Male           Marketing        Single            Sales   \n",
              "\n",
              "        EmpJobRole BusinessTravelFrequency  DistanceFromHome  \\\n",
              "0  Sales Executive           Travel_Rarely                10   \n",
              "1  Sales Executive           Travel_Rarely                14   \n",
              "2  Sales Executive       Travel_Frequently                 5   \n",
              "3          Manager           Travel_Rarely                10   \n",
              "4  Sales Executive           Travel_Rarely                16   \n",
              "\n",
              "   EmpEducationLevel  ...  TrainingTimesLastYear  EmpWorkLifeBalance  \\\n",
              "0                  3  ...                      2                   2   \n",
              "1                  4  ...                      2                   3   \n",
              "2                  4  ...                      2                   3   \n",
              "3                  4  ...                      2                   2   \n",
              "4                  4  ...                      1                   3   \n",
              "\n",
              "   ExperienceYearsAtThisCompany  ExperienceYearsInCurrentRole  \\\n",
              "0                            10                             7   \n",
              "1                             7                             7   \n",
              "2                            18                            13   \n",
              "3                            21                             6   \n",
              "4                             2                             2   \n",
              "\n",
              "   YearsSinceLastPromotion  YearsWithCurrManager Attrition  PerformanceRating  \\\n",
              "0                        0                     8        No                  3   \n",
              "1                        1                     7        No                  3   \n",
              "2                        1                    12        No                  4   \n",
              "3                       12                     6        No                  3   \n",
              "4                        2                     2        No                  3   \n",
              "\n",
              "   empdep  empjr  \n",
              "0       5     13  \n",
              "1       5     13  \n",
              "2       5     13  \n",
              "3       3      8  \n",
              "4       5     13  \n",
              "\n",
              "[5 rows x 30 columns]"
            ]
          },
          "execution_count": 98,
          "metadata": {},
          "output_type": "execute_result"
        }
      ],
      "source": [
        "data.head()"
      ]
    },
    {
      "cell_type": "markdown",
      "metadata": {
        "id": "Rj_qUHeTe4dl"
      },
      "source": [
        "## Feature Selection    \n",
        "-     There are a lot of columns in the predictor variable. So, the correlation coeffecient is calculated to see which of them are important and these are then used for training methods. From there, we also get the top factors which affect performance. We can see that the most important features selectd were Department, Job Role, Environment Satisfaction, Last Salary Hike Percent, Work Life Balance, Experience Years At This Company, Experience Years In Current Role, Years Since Last Promotion, Years With Current Manager. These were selected because their correlation coeffecient with Performance Rating was more than 0.1.\n",
        "-     Standardization and Label Encoding was also used for feature transformation.\n",
        "-     A separate analysis considering all the predictors was carried out but it resulted in decreasing the accuracy. Similarly, Principal Component Analysis also reduces the accuracy.\n",
        "-     Top 3 factors which affect the employee performance are 1. Employee EnvironmentSatisfaction, 2. Employee Last Salary Hike Percent and 3. Years Since Last Promotion"
      ]
    },
    {
      "cell_type": "code",
      "execution_count": null,
      "metadata": {
        "scrolled": false,
        "id": "I0EmsTcHe4dm",
        "outputId": "e73ce28e-7187-4a9c-c4ac-beaf43f1c26b"
      },
      "outputs": [
        {
          "data": {
            "text/html": [
              "<div>\n",
              "<style scoped>\n",
              "    .dataframe tbody tr th:only-of-type {\n",
              "        vertical-align: middle;\n",
              "    }\n",
              "\n",
              "    .dataframe tbody tr th {\n",
              "        vertical-align: top;\n",
              "    }\n",
              "\n",
              "    .dataframe thead th {\n",
              "        text-align: right;\n",
              "    }\n",
              "</style>\n",
              "<table border=\"1\" class=\"dataframe\">\n",
              "  <thead>\n",
              "    <tr style=\"text-align: right;\">\n",
              "      <th></th>\n",
              "      <th>Age</th>\n",
              "      <th>DistanceFromHome</th>\n",
              "      <th>EmpEducationLevel</th>\n",
              "      <th>EmpEnvironmentSatisfaction</th>\n",
              "      <th>EmpHourlyRate</th>\n",
              "      <th>EmpJobInvolvement</th>\n",
              "      <th>EmpJobLevel</th>\n",
              "      <th>EmpJobSatisfaction</th>\n",
              "      <th>NumCompaniesWorked</th>\n",
              "      <th>EmpLastSalaryHikePercent</th>\n",
              "      <th>...</th>\n",
              "      <th>TotalWorkExperienceInYears</th>\n",
              "      <th>TrainingTimesLastYear</th>\n",
              "      <th>EmpWorkLifeBalance</th>\n",
              "      <th>ExperienceYearsAtThisCompany</th>\n",
              "      <th>ExperienceYearsInCurrentRole</th>\n",
              "      <th>YearsSinceLastPromotion</th>\n",
              "      <th>YearsWithCurrManager</th>\n",
              "      <th>PerformanceRating</th>\n",
              "      <th>empdep</th>\n",
              "      <th>empjr</th>\n",
              "    </tr>\n",
              "  </thead>\n",
              "  <tbody>\n",
              "    <tr>\n",
              "      <th>Age</th>\n",
              "      <td>1.000000</td>\n",
              "      <td>0.020937</td>\n",
              "      <td>0.207313</td>\n",
              "      <td>0.013814</td>\n",
              "      <td>0.062867</td>\n",
              "      <td>0.027216</td>\n",
              "      <td>0.509139</td>\n",
              "      <td>-0.002436</td>\n",
              "      <td>0.284408</td>\n",
              "      <td>-0.006105</td>\n",
              "      <td>...</td>\n",
              "      <td>0.680886</td>\n",
              "      <td>-0.016053</td>\n",
              "      <td>-0.019563</td>\n",
              "      <td>0.318852</td>\n",
              "      <td>0.217163</td>\n",
              "      <td>0.228199</td>\n",
              "      <td>0.205098</td>\n",
              "      <td>-0.040164</td>\n",
              "      <td>-0.000104</td>\n",
              "      <td>-0.037665</td>\n",
              "    </tr>\n",
              "    <tr>\n",
              "      <th>DistanceFromHome</th>\n",
              "      <td>0.020937</td>\n",
              "      <td>1.000000</td>\n",
              "      <td>0.045856</td>\n",
              "      <td>-0.017719</td>\n",
              "      <td>0.013730</td>\n",
              "      <td>0.003231</td>\n",
              "      <td>0.017270</td>\n",
              "      <td>-0.003036</td>\n",
              "      <td>-0.021411</td>\n",
              "      <td>0.044974</td>\n",
              "      <td>...</td>\n",
              "      <td>0.027306</td>\n",
              "      <td>-0.032082</td>\n",
              "      <td>-0.044788</td>\n",
              "      <td>0.021908</td>\n",
              "      <td>0.019898</td>\n",
              "      <td>0.013246</td>\n",
              "      <td>0.017860</td>\n",
              "      <td>-0.046142</td>\n",
              "      <td>0.007707</td>\n",
              "      <td>0.022939</td>\n",
              "    </tr>\n",
              "    <tr>\n",
              "      <th>EmpEducationLevel</th>\n",
              "      <td>0.207313</td>\n",
              "      <td>0.045856</td>\n",
              "      <td>1.000000</td>\n",
              "      <td>-0.037103</td>\n",
              "      <td>0.014095</td>\n",
              "      <td>0.027544</td>\n",
              "      <td>0.100734</td>\n",
              "      <td>0.000357</td>\n",
              "      <td>0.128674</td>\n",
              "      <td>0.002358</td>\n",
              "      <td>...</td>\n",
              "      <td>0.151062</td>\n",
              "      <td>-0.013674</td>\n",
              "      <td>0.010276</td>\n",
              "      <td>0.076332</td>\n",
              "      <td>0.066672</td>\n",
              "      <td>0.054313</td>\n",
              "      <td>0.088988</td>\n",
              "      <td>0.020529</td>\n",
              "      <td>0.019175</td>\n",
              "      <td>-0.016792</td>\n",
              "    </tr>\n",
              "    <tr>\n",
              "      <th>EmpEnvironmentSatisfaction</th>\n",
              "      <td>0.013814</td>\n",
              "      <td>-0.017719</td>\n",
              "      <td>-0.037103</td>\n",
              "      <td>1.000000</td>\n",
              "      <td>-0.049501</td>\n",
              "      <td>0.004865</td>\n",
              "      <td>-0.008272</td>\n",
              "      <td>-0.004319</td>\n",
              "      <td>0.017270</td>\n",
              "      <td>-0.047271</td>\n",
              "      <td>...</td>\n",
              "      <td>-0.012894</td>\n",
              "      <td>0.001192</td>\n",
              "      <td>-0.000262</td>\n",
              "      <td>-0.000561</td>\n",
              "      <td>0.025491</td>\n",
              "      <td>0.010732</td>\n",
              "      <td>-0.011702</td>\n",
              "      <td>0.395561</td>\n",
              "      <td>-0.019237</td>\n",
              "      <td>0.044612</td>\n",
              "    </tr>\n",
              "    <tr>\n",
              "      <th>EmpHourlyRate</th>\n",
              "      <td>0.062867</td>\n",
              "      <td>0.013730</td>\n",
              "      <td>0.014095</td>\n",
              "      <td>-0.049501</td>\n",
              "      <td>1.000000</td>\n",
              "      <td>0.054741</td>\n",
              "      <td>-0.018606</td>\n",
              "      <td>-0.066417</td>\n",
              "      <td>0.040484</td>\n",
              "      <td>-0.015934</td>\n",
              "      <td>...</td>\n",
              "      <td>0.026034</td>\n",
              "      <td>-0.024160</td>\n",
              "      <td>0.016189</td>\n",
              "      <td>-0.000399</td>\n",
              "      <td>-0.011871</td>\n",
              "      <td>-0.010000</td>\n",
              "      <td>-0.004576</td>\n",
              "      <td>-0.043116</td>\n",
              "      <td>0.003957</td>\n",
              "      <td>-0.016179</td>\n",
              "    </tr>\n",
              "    <tr>\n",
              "      <th>EmpJobInvolvement</th>\n",
              "      <td>0.027216</td>\n",
              "      <td>0.003231</td>\n",
              "      <td>0.027544</td>\n",
              "      <td>0.004865</td>\n",
              "      <td>0.054741</td>\n",
              "      <td>1.000000</td>\n",
              "      <td>-0.034349</td>\n",
              "      <td>-0.005501</td>\n",
              "      <td>0.018211</td>\n",
              "      <td>-0.001742</td>\n",
              "      <td>...</td>\n",
              "      <td>-0.028851</td>\n",
              "      <td>-0.025168</td>\n",
              "      <td>-0.014129</td>\n",
              "      <td>-0.039720</td>\n",
              "      <td>0.002910</td>\n",
              "      <td>-0.019944</td>\n",
              "      <td>0.012924</td>\n",
              "      <td>-0.010539</td>\n",
              "      <td>-0.076988</td>\n",
              "      <td>-0.008034</td>\n",
              "    </tr>\n",
              "    <tr>\n",
              "      <th>EmpJobLevel</th>\n",
              "      <td>0.509139</td>\n",
              "      <td>0.017270</td>\n",
              "      <td>0.100734</td>\n",
              "      <td>-0.008272</td>\n",
              "      <td>-0.018606</td>\n",
              "      <td>-0.034349</td>\n",
              "      <td>1.000000</td>\n",
              "      <td>-0.011853</td>\n",
              "      <td>0.127477</td>\n",
              "      <td>-0.020975</td>\n",
              "      <td>...</td>\n",
              "      <td>0.784229</td>\n",
              "      <td>-0.000389</td>\n",
              "      <td>0.049218</td>\n",
              "      <td>0.540377</td>\n",
              "      <td>0.399235</td>\n",
              "      <td>0.360880</td>\n",
              "      <td>0.374872</td>\n",
              "      <td>-0.076632</td>\n",
              "      <td>0.100526</td>\n",
              "      <td>0.004406</td>\n",
              "    </tr>\n",
              "    <tr>\n",
              "      <th>EmpJobSatisfaction</th>\n",
              "      <td>-0.002436</td>\n",
              "      <td>-0.003036</td>\n",
              "      <td>0.000357</td>\n",
              "      <td>-0.004319</td>\n",
              "      <td>-0.066417</td>\n",
              "      <td>-0.005501</td>\n",
              "      <td>-0.011853</td>\n",
              "      <td>1.000000</td>\n",
              "      <td>-0.049865</td>\n",
              "      <td>0.031847</td>\n",
              "      <td>...</td>\n",
              "      <td>-0.026824</td>\n",
              "      <td>-0.028031</td>\n",
              "      <td>-0.018548</td>\n",
              "      <td>0.001807</td>\n",
              "      <td>0.002018</td>\n",
              "      <td>-0.006508</td>\n",
              "      <td>-0.022096</td>\n",
              "      <td>0.000606</td>\n",
              "      <td>0.007150</td>\n",
              "      <td>0.032916</td>\n",
              "    </tr>\n",
              "    <tr>\n",
              "      <th>NumCompaniesWorked</th>\n",
              "      <td>0.284408</td>\n",
              "      <td>-0.021411</td>\n",
              "      <td>0.128674</td>\n",
              "      <td>0.017270</td>\n",
              "      <td>0.040484</td>\n",
              "      <td>0.018211</td>\n",
              "      <td>0.127477</td>\n",
              "      <td>-0.049865</td>\n",
              "      <td>1.000000</td>\n",
              "      <td>-0.011788</td>\n",
              "      <td>...</td>\n",
              "      <td>0.221505</td>\n",
              "      <td>-0.050817</td>\n",
              "      <td>0.002489</td>\n",
              "      <td>-0.129797</td>\n",
              "      <td>-0.097271</td>\n",
              "      <td>-0.031656</td>\n",
              "      <td>-0.109937</td>\n",
              "      <td>0.020980</td>\n",
              "      <td>-0.033950</td>\n",
              "      <td>-0.009111</td>\n",
              "    </tr>\n",
              "    <tr>\n",
              "      <th>EmpLastSalaryHikePercent</th>\n",
              "      <td>-0.006105</td>\n",
              "      <td>0.044974</td>\n",
              "      <td>0.002358</td>\n",
              "      <td>-0.047271</td>\n",
              "      <td>-0.015934</td>\n",
              "      <td>-0.001742</td>\n",
              "      <td>-0.020975</td>\n",
              "      <td>0.031847</td>\n",
              "      <td>-0.011788</td>\n",
              "      <td>1.000000</td>\n",
              "      <td>...</td>\n",
              "      <td>-0.005933</td>\n",
              "      <td>-0.013439</td>\n",
              "      <td>-0.017001</td>\n",
              "      <td>-0.019830</td>\n",
              "      <td>-0.004957</td>\n",
              "      <td>-0.015911</td>\n",
              "      <td>-0.007666</td>\n",
              "      <td>0.333722</td>\n",
              "      <td>-0.012661</td>\n",
              "      <td>0.005735</td>\n",
              "    </tr>\n",
              "    <tr>\n",
              "      <th>EmpRelationshipSatisfaction</th>\n",
              "      <td>0.049749</td>\n",
              "      <td>-0.009509</td>\n",
              "      <td>-0.016690</td>\n",
              "      <td>-0.010504</td>\n",
              "      <td>0.008783</td>\n",
              "      <td>0.018037</td>\n",
              "      <td>0.002992</td>\n",
              "      <td>-0.022028</td>\n",
              "      <td>0.057917</td>\n",
              "      <td>-0.042892</td>\n",
              "      <td>...</td>\n",
              "      <td>0.018089</td>\n",
              "      <td>0.025975</td>\n",
              "      <td>-0.004906</td>\n",
              "      <td>0.015612</td>\n",
              "      <td>-0.032131</td>\n",
              "      <td>0.026253</td>\n",
              "      <td>-0.006426</td>\n",
              "      <td>-0.019502</td>\n",
              "      <td>-0.050286</td>\n",
              "      <td>-0.043067</td>\n",
              "    </tr>\n",
              "    <tr>\n",
              "      <th>TotalWorkExperienceInYears</th>\n",
              "      <td>0.680886</td>\n",
              "      <td>0.027306</td>\n",
              "      <td>0.151062</td>\n",
              "      <td>-0.012894</td>\n",
              "      <td>0.026034</td>\n",
              "      <td>-0.028851</td>\n",
              "      <td>0.784229</td>\n",
              "      <td>-0.026824</td>\n",
              "      <td>0.221505</td>\n",
              "      <td>-0.005933</td>\n",
              "      <td>...</td>\n",
              "      <td>1.000000</td>\n",
              "      <td>-0.022113</td>\n",
              "      <td>0.015495</td>\n",
              "      <td>0.633555</td>\n",
              "      <td>0.460700</td>\n",
              "      <td>0.412781</td>\n",
              "      <td>0.460783</td>\n",
              "      <td>-0.068141</td>\n",
              "      <td>0.016065</td>\n",
              "      <td>-0.049529</td>\n",
              "    </tr>\n",
              "    <tr>\n",
              "      <th>TrainingTimesLastYear</th>\n",
              "      <td>-0.016053</td>\n",
              "      <td>-0.032082</td>\n",
              "      <td>-0.013674</td>\n",
              "      <td>0.001192</td>\n",
              "      <td>-0.024160</td>\n",
              "      <td>-0.025168</td>\n",
              "      <td>-0.000389</td>\n",
              "      <td>-0.028031</td>\n",
              "      <td>-0.050817</td>\n",
              "      <td>-0.013439</td>\n",
              "      <td>...</td>\n",
              "      <td>-0.022113</td>\n",
              "      <td>1.000000</td>\n",
              "      <td>0.037048</td>\n",
              "      <td>0.008564</td>\n",
              "      <td>0.010222</td>\n",
              "      <td>0.018831</td>\n",
              "      <td>-0.013237</td>\n",
              "      <td>-0.005443</td>\n",
              "      <td>0.016438</td>\n",
              "      <td>0.004452</td>\n",
              "    </tr>\n",
              "    <tr>\n",
              "      <th>EmpWorkLifeBalance</th>\n",
              "      <td>-0.019563</td>\n",
              "      <td>-0.044788</td>\n",
              "      <td>0.010276</td>\n",
              "      <td>-0.000262</td>\n",
              "      <td>0.016189</td>\n",
              "      <td>-0.014129</td>\n",
              "      <td>0.049218</td>\n",
              "      <td>-0.018548</td>\n",
              "      <td>0.002489</td>\n",
              "      <td>-0.017001</td>\n",
              "      <td>...</td>\n",
              "      <td>0.015495</td>\n",
              "      <td>0.037048</td>\n",
              "      <td>1.000000</td>\n",
              "      <td>0.023479</td>\n",
              "      <td>0.045719</td>\n",
              "      <td>0.015773</td>\n",
              "      <td>0.010518</td>\n",
              "      <td>0.124429</td>\n",
              "      <td>0.068875</td>\n",
              "      <td>-0.007519</td>\n",
              "    </tr>\n",
              "    <tr>\n",
              "      <th>ExperienceYearsAtThisCompany</th>\n",
              "      <td>0.318852</td>\n",
              "      <td>0.021908</td>\n",
              "      <td>0.076332</td>\n",
              "      <td>-0.000561</td>\n",
              "      <td>-0.000399</td>\n",
              "      <td>-0.039720</td>\n",
              "      <td>0.540377</td>\n",
              "      <td>0.001807</td>\n",
              "      <td>-0.129797</td>\n",
              "      <td>-0.019830</td>\n",
              "      <td>...</td>\n",
              "      <td>0.633555</td>\n",
              "      <td>0.008564</td>\n",
              "      <td>0.023479</td>\n",
              "      <td>1.000000</td>\n",
              "      <td>0.764102</td>\n",
              "      <td>0.620230</td>\n",
              "      <td>0.759258</td>\n",
              "      <td>-0.111645</td>\n",
              "      <td>0.047677</td>\n",
              "      <td>-0.009047</td>\n",
              "    </tr>\n",
              "    <tr>\n",
              "      <th>ExperienceYearsInCurrentRole</th>\n",
              "      <td>0.217163</td>\n",
              "      <td>0.019898</td>\n",
              "      <td>0.066672</td>\n",
              "      <td>0.025491</td>\n",
              "      <td>-0.011871</td>\n",
              "      <td>0.002910</td>\n",
              "      <td>0.399235</td>\n",
              "      <td>0.002018</td>\n",
              "      <td>-0.097271</td>\n",
              "      <td>-0.004957</td>\n",
              "      <td>...</td>\n",
              "      <td>0.460700</td>\n",
              "      <td>0.010222</td>\n",
              "      <td>0.045719</td>\n",
              "      <td>0.764102</td>\n",
              "      <td>1.000000</td>\n",
              "      <td>0.540600</td>\n",
              "      <td>0.728973</td>\n",
              "      <td>-0.147638</td>\n",
              "      <td>0.069602</td>\n",
              "      <td>0.019383</td>\n",
              "    </tr>\n",
              "    <tr>\n",
              "      <th>YearsSinceLastPromotion</th>\n",
              "      <td>0.228199</td>\n",
              "      <td>0.013246</td>\n",
              "      <td>0.054313</td>\n",
              "      <td>0.010732</td>\n",
              "      <td>-0.010000</td>\n",
              "      <td>-0.019944</td>\n",
              "      <td>0.360880</td>\n",
              "      <td>-0.006508</td>\n",
              "      <td>-0.031656</td>\n",
              "      <td>-0.015911</td>\n",
              "      <td>...</td>\n",
              "      <td>0.412781</td>\n",
              "      <td>0.018831</td>\n",
              "      <td>0.015773</td>\n",
              "      <td>0.620230</td>\n",
              "      <td>0.540600</td>\n",
              "      <td>1.000000</td>\n",
              "      <td>0.491199</td>\n",
              "      <td>-0.167629</td>\n",
              "      <td>0.052315</td>\n",
              "      <td>0.012190</td>\n",
              "    </tr>\n",
              "    <tr>\n",
              "      <th>YearsWithCurrManager</th>\n",
              "      <td>0.205098</td>\n",
              "      <td>0.017860</td>\n",
              "      <td>0.088988</td>\n",
              "      <td>-0.011702</td>\n",
              "      <td>-0.004576</td>\n",
              "      <td>0.012924</td>\n",
              "      <td>0.374872</td>\n",
              "      <td>-0.022096</td>\n",
              "      <td>-0.109937</td>\n",
              "      <td>-0.007666</td>\n",
              "      <td>...</td>\n",
              "      <td>0.460783</td>\n",
              "      <td>-0.013237</td>\n",
              "      <td>0.010518</td>\n",
              "      <td>0.759258</td>\n",
              "      <td>0.728973</td>\n",
              "      <td>0.491199</td>\n",
              "      <td>1.000000</td>\n",
              "      <td>-0.122313</td>\n",
              "      <td>0.033850</td>\n",
              "      <td>-0.004504</td>\n",
              "    </tr>\n",
              "    <tr>\n",
              "      <th>PerformanceRating</th>\n",
              "      <td>-0.040164</td>\n",
              "      <td>-0.046142</td>\n",
              "      <td>0.020529</td>\n",
              "      <td>0.395561</td>\n",
              "      <td>-0.043116</td>\n",
              "      <td>-0.010539</td>\n",
              "      <td>-0.076632</td>\n",
              "      <td>0.000606</td>\n",
              "      <td>0.020980</td>\n",
              "      <td>0.333722</td>\n",
              "      <td>...</td>\n",
              "      <td>-0.068141</td>\n",
              "      <td>-0.005443</td>\n",
              "      <td>0.124429</td>\n",
              "      <td>-0.111645</td>\n",
              "      <td>-0.147638</td>\n",
              "      <td>-0.167629</td>\n",
              "      <td>-0.122313</td>\n",
              "      <td>1.000000</td>\n",
              "      <td>-0.162615</td>\n",
              "      <td>-0.096209</td>\n",
              "    </tr>\n",
              "    <tr>\n",
              "      <th>empdep</th>\n",
              "      <td>-0.000104</td>\n",
              "      <td>0.007707</td>\n",
              "      <td>0.019175</td>\n",
              "      <td>-0.019237</td>\n",
              "      <td>0.003957</td>\n",
              "      <td>-0.076988</td>\n",
              "      <td>0.100526</td>\n",
              "      <td>0.007150</td>\n",
              "      <td>-0.033950</td>\n",
              "      <td>-0.012661</td>\n",
              "      <td>...</td>\n",
              "      <td>0.016065</td>\n",
              "      <td>0.016438</td>\n",
              "      <td>0.068875</td>\n",
              "      <td>0.047677</td>\n",
              "      <td>0.069602</td>\n",
              "      <td>0.052315</td>\n",
              "      <td>0.033850</td>\n",
              "      <td>-0.162615</td>\n",
              "      <td>1.000000</td>\n",
              "      <td>0.568973</td>\n",
              "    </tr>\n",
              "    <tr>\n",
              "      <th>empjr</th>\n",
              "      <td>-0.037665</td>\n",
              "      <td>0.022939</td>\n",
              "      <td>-0.016792</td>\n",
              "      <td>0.044612</td>\n",
              "      <td>-0.016179</td>\n",
              "      <td>-0.008034</td>\n",
              "      <td>0.004406</td>\n",
              "      <td>0.032916</td>\n",
              "      <td>-0.009111</td>\n",
              "      <td>0.005735</td>\n",
              "      <td>...</td>\n",
              "      <td>-0.049529</td>\n",
              "      <td>0.004452</td>\n",
              "      <td>-0.007519</td>\n",
              "      <td>-0.009047</td>\n",
              "      <td>0.019383</td>\n",
              "      <td>0.012190</td>\n",
              "      <td>-0.004504</td>\n",
              "      <td>-0.096209</td>\n",
              "      <td>0.568973</td>\n",
              "      <td>1.000000</td>\n",
              "    </tr>\n",
              "  </tbody>\n",
              "</table>\n",
              "<p>21 rows × 21 columns</p>\n",
              "</div>"
            ],
            "text/plain": [
              "                                   Age  DistanceFromHome  EmpEducationLevel  \\\n",
              "Age                           1.000000          0.020937           0.207313   \n",
              "DistanceFromHome              0.020937          1.000000           0.045856   \n",
              "EmpEducationLevel             0.207313          0.045856           1.000000   \n",
              "EmpEnvironmentSatisfaction    0.013814         -0.017719          -0.037103   \n",
              "EmpHourlyRate                 0.062867          0.013730           0.014095   \n",
              "EmpJobInvolvement             0.027216          0.003231           0.027544   \n",
              "EmpJobLevel                   0.509139          0.017270           0.100734   \n",
              "EmpJobSatisfaction           -0.002436         -0.003036           0.000357   \n",
              "NumCompaniesWorked            0.284408         -0.021411           0.128674   \n",
              "EmpLastSalaryHikePercent     -0.006105          0.044974           0.002358   \n",
              "EmpRelationshipSatisfaction   0.049749         -0.009509          -0.016690   \n",
              "TotalWorkExperienceInYears    0.680886          0.027306           0.151062   \n",
              "TrainingTimesLastYear        -0.016053         -0.032082          -0.013674   \n",
              "EmpWorkLifeBalance           -0.019563         -0.044788           0.010276   \n",
              "ExperienceYearsAtThisCompany  0.318852          0.021908           0.076332   \n",
              "ExperienceYearsInCurrentRole  0.217163          0.019898           0.066672   \n",
              "YearsSinceLastPromotion       0.228199          0.013246           0.054313   \n",
              "YearsWithCurrManager          0.205098          0.017860           0.088988   \n",
              "PerformanceRating            -0.040164         -0.046142           0.020529   \n",
              "empdep                       -0.000104          0.007707           0.019175   \n",
              "empjr                        -0.037665          0.022939          -0.016792   \n",
              "\n",
              "                              EmpEnvironmentSatisfaction  EmpHourlyRate  \\\n",
              "Age                                             0.013814       0.062867   \n",
              "DistanceFromHome                               -0.017719       0.013730   \n",
              "EmpEducationLevel                              -0.037103       0.014095   \n",
              "EmpEnvironmentSatisfaction                      1.000000      -0.049501   \n",
              "EmpHourlyRate                                  -0.049501       1.000000   \n",
              "EmpJobInvolvement                               0.004865       0.054741   \n",
              "EmpJobLevel                                    -0.008272      -0.018606   \n",
              "EmpJobSatisfaction                             -0.004319      -0.066417   \n",
              "NumCompaniesWorked                              0.017270       0.040484   \n",
              "EmpLastSalaryHikePercent                       -0.047271      -0.015934   \n",
              "EmpRelationshipSatisfaction                    -0.010504       0.008783   \n",
              "TotalWorkExperienceInYears                     -0.012894       0.026034   \n",
              "TrainingTimesLastYear                           0.001192      -0.024160   \n",
              "EmpWorkLifeBalance                             -0.000262       0.016189   \n",
              "ExperienceYearsAtThisCompany                   -0.000561      -0.000399   \n",
              "ExperienceYearsInCurrentRole                    0.025491      -0.011871   \n",
              "YearsSinceLastPromotion                         0.010732      -0.010000   \n",
              "YearsWithCurrManager                           -0.011702      -0.004576   \n",
              "PerformanceRating                               0.395561      -0.043116   \n",
              "empdep                                         -0.019237       0.003957   \n",
              "empjr                                           0.044612      -0.016179   \n",
              "\n",
              "                              EmpJobInvolvement  EmpJobLevel  \\\n",
              "Age                                    0.027216     0.509139   \n",
              "DistanceFromHome                       0.003231     0.017270   \n",
              "EmpEducationLevel                      0.027544     0.100734   \n",
              "EmpEnvironmentSatisfaction             0.004865    -0.008272   \n",
              "EmpHourlyRate                          0.054741    -0.018606   \n",
              "EmpJobInvolvement                      1.000000    -0.034349   \n",
              "EmpJobLevel                           -0.034349     1.000000   \n",
              "EmpJobSatisfaction                    -0.005501    -0.011853   \n",
              "NumCompaniesWorked                     0.018211     0.127477   \n",
              "EmpLastSalaryHikePercent              -0.001742    -0.020975   \n",
              "EmpRelationshipSatisfaction            0.018037     0.002992   \n",
              "TotalWorkExperienceInYears            -0.028851     0.784229   \n",
              "TrainingTimesLastYear                 -0.025168    -0.000389   \n",
              "EmpWorkLifeBalance                    -0.014129     0.049218   \n",
              "ExperienceYearsAtThisCompany          -0.039720     0.540377   \n",
              "ExperienceYearsInCurrentRole           0.002910     0.399235   \n",
              "YearsSinceLastPromotion               -0.019944     0.360880   \n",
              "YearsWithCurrManager                   0.012924     0.374872   \n",
              "PerformanceRating                     -0.010539    -0.076632   \n",
              "empdep                                -0.076988     0.100526   \n",
              "empjr                                 -0.008034     0.004406   \n",
              "\n",
              "                              EmpJobSatisfaction  NumCompaniesWorked  \\\n",
              "Age                                    -0.002436            0.284408   \n",
              "DistanceFromHome                       -0.003036           -0.021411   \n",
              "EmpEducationLevel                       0.000357            0.128674   \n",
              "EmpEnvironmentSatisfaction             -0.004319            0.017270   \n",
              "EmpHourlyRate                          -0.066417            0.040484   \n",
              "EmpJobInvolvement                      -0.005501            0.018211   \n",
              "EmpJobLevel                            -0.011853            0.127477   \n",
              "EmpJobSatisfaction                      1.000000           -0.049865   \n",
              "NumCompaniesWorked                     -0.049865            1.000000   \n",
              "EmpLastSalaryHikePercent                0.031847           -0.011788   \n",
              "EmpRelationshipSatisfaction            -0.022028            0.057917   \n",
              "TotalWorkExperienceInYears             -0.026824            0.221505   \n",
              "TrainingTimesLastYear                  -0.028031           -0.050817   \n",
              "EmpWorkLifeBalance                     -0.018548            0.002489   \n",
              "ExperienceYearsAtThisCompany            0.001807           -0.129797   \n",
              "ExperienceYearsInCurrentRole            0.002018           -0.097271   \n",
              "YearsSinceLastPromotion                -0.006508           -0.031656   \n",
              "YearsWithCurrManager                   -0.022096           -0.109937   \n",
              "PerformanceRating                       0.000606            0.020980   \n",
              "empdep                                  0.007150           -0.033950   \n",
              "empjr                                   0.032916           -0.009111   \n",
              "\n",
              "                              EmpLastSalaryHikePercent  ...  \\\n",
              "Age                                          -0.006105  ...   \n",
              "DistanceFromHome                              0.044974  ...   \n",
              "EmpEducationLevel                             0.002358  ...   \n",
              "EmpEnvironmentSatisfaction                   -0.047271  ...   \n",
              "EmpHourlyRate                                -0.015934  ...   \n",
              "EmpJobInvolvement                            -0.001742  ...   \n",
              "EmpJobLevel                                  -0.020975  ...   \n",
              "EmpJobSatisfaction                            0.031847  ...   \n",
              "NumCompaniesWorked                           -0.011788  ...   \n",
              "EmpLastSalaryHikePercent                      1.000000  ...   \n",
              "EmpRelationshipSatisfaction                  -0.042892  ...   \n",
              "TotalWorkExperienceInYears                   -0.005933  ...   \n",
              "TrainingTimesLastYear                        -0.013439  ...   \n",
              "EmpWorkLifeBalance                           -0.017001  ...   \n",
              "ExperienceYearsAtThisCompany                 -0.019830  ...   \n",
              "ExperienceYearsInCurrentRole                 -0.004957  ...   \n",
              "YearsSinceLastPromotion                      -0.015911  ...   \n",
              "YearsWithCurrManager                         -0.007666  ...   \n",
              "PerformanceRating                             0.333722  ...   \n",
              "empdep                                       -0.012661  ...   \n",
              "empjr                                         0.005735  ...   \n",
              "\n",
              "                              TotalWorkExperienceInYears  \\\n",
              "Age                                             0.680886   \n",
              "DistanceFromHome                                0.027306   \n",
              "EmpEducationLevel                               0.151062   \n",
              "EmpEnvironmentSatisfaction                     -0.012894   \n",
              "EmpHourlyRate                                   0.026034   \n",
              "EmpJobInvolvement                              -0.028851   \n",
              "EmpJobLevel                                     0.784229   \n",
              "EmpJobSatisfaction                             -0.026824   \n",
              "NumCompaniesWorked                              0.221505   \n",
              "EmpLastSalaryHikePercent                       -0.005933   \n",
              "EmpRelationshipSatisfaction                     0.018089   \n",
              "TotalWorkExperienceInYears                      1.000000   \n",
              "TrainingTimesLastYear                          -0.022113   \n",
              "EmpWorkLifeBalance                              0.015495   \n",
              "ExperienceYearsAtThisCompany                    0.633555   \n",
              "ExperienceYearsInCurrentRole                    0.460700   \n",
              "YearsSinceLastPromotion                         0.412781   \n",
              "YearsWithCurrManager                            0.460783   \n",
              "PerformanceRating                              -0.068141   \n",
              "empdep                                          0.016065   \n",
              "empjr                                          -0.049529   \n",
              "\n",
              "                              TrainingTimesLastYear  EmpWorkLifeBalance  \\\n",
              "Age                                       -0.016053           -0.019563   \n",
              "DistanceFromHome                          -0.032082           -0.044788   \n",
              "EmpEducationLevel                         -0.013674            0.010276   \n",
              "EmpEnvironmentSatisfaction                 0.001192           -0.000262   \n",
              "EmpHourlyRate                             -0.024160            0.016189   \n",
              "EmpJobInvolvement                         -0.025168           -0.014129   \n",
              "EmpJobLevel                               -0.000389            0.049218   \n",
              "EmpJobSatisfaction                        -0.028031           -0.018548   \n",
              "NumCompaniesWorked                        -0.050817            0.002489   \n",
              "EmpLastSalaryHikePercent                  -0.013439           -0.017001   \n",
              "EmpRelationshipSatisfaction                0.025975           -0.004906   \n",
              "TotalWorkExperienceInYears                -0.022113            0.015495   \n",
              "TrainingTimesLastYear                      1.000000            0.037048   \n",
              "EmpWorkLifeBalance                         0.037048            1.000000   \n",
              "ExperienceYearsAtThisCompany               0.008564            0.023479   \n",
              "ExperienceYearsInCurrentRole               0.010222            0.045719   \n",
              "YearsSinceLastPromotion                    0.018831            0.015773   \n",
              "YearsWithCurrManager                      -0.013237            0.010518   \n",
              "PerformanceRating                         -0.005443            0.124429   \n",
              "empdep                                     0.016438            0.068875   \n",
              "empjr                                      0.004452           -0.007519   \n",
              "\n",
              "                              ExperienceYearsAtThisCompany  \\\n",
              "Age                                               0.318852   \n",
              "DistanceFromHome                                  0.021908   \n",
              "EmpEducationLevel                                 0.076332   \n",
              "EmpEnvironmentSatisfaction                       -0.000561   \n",
              "EmpHourlyRate                                    -0.000399   \n",
              "EmpJobInvolvement                                -0.039720   \n",
              "EmpJobLevel                                       0.540377   \n",
              "EmpJobSatisfaction                                0.001807   \n",
              "NumCompaniesWorked                               -0.129797   \n",
              "EmpLastSalaryHikePercent                         -0.019830   \n",
              "EmpRelationshipSatisfaction                       0.015612   \n",
              "TotalWorkExperienceInYears                        0.633555   \n",
              "TrainingTimesLastYear                             0.008564   \n",
              "EmpWorkLifeBalance                                0.023479   \n",
              "ExperienceYearsAtThisCompany                      1.000000   \n",
              "ExperienceYearsInCurrentRole                      0.764102   \n",
              "YearsSinceLastPromotion                           0.620230   \n",
              "YearsWithCurrManager                              0.759258   \n",
              "PerformanceRating                                -0.111645   \n",
              "empdep                                            0.047677   \n",
              "empjr                                            -0.009047   \n",
              "\n",
              "                              ExperienceYearsInCurrentRole  \\\n",
              "Age                                               0.217163   \n",
              "DistanceFromHome                                  0.019898   \n",
              "EmpEducationLevel                                 0.066672   \n",
              "EmpEnvironmentSatisfaction                        0.025491   \n",
              "EmpHourlyRate                                    -0.011871   \n",
              "EmpJobInvolvement                                 0.002910   \n",
              "EmpJobLevel                                       0.399235   \n",
              "EmpJobSatisfaction                                0.002018   \n",
              "NumCompaniesWorked                               -0.097271   \n",
              "EmpLastSalaryHikePercent                         -0.004957   \n",
              "EmpRelationshipSatisfaction                      -0.032131   \n",
              "TotalWorkExperienceInYears                        0.460700   \n",
              "TrainingTimesLastYear                             0.010222   \n",
              "EmpWorkLifeBalance                                0.045719   \n",
              "ExperienceYearsAtThisCompany                      0.764102   \n",
              "ExperienceYearsInCurrentRole                      1.000000   \n",
              "YearsSinceLastPromotion                           0.540600   \n",
              "YearsWithCurrManager                              0.728973   \n",
              "PerformanceRating                                -0.147638   \n",
              "empdep                                            0.069602   \n",
              "empjr                                             0.019383   \n",
              "\n",
              "                              YearsSinceLastPromotion  YearsWithCurrManager  \\\n",
              "Age                                          0.228199              0.205098   \n",
              "DistanceFromHome                             0.013246              0.017860   \n",
              "EmpEducationLevel                            0.054313              0.088988   \n",
              "EmpEnvironmentSatisfaction                   0.010732             -0.011702   \n",
              "EmpHourlyRate                               -0.010000             -0.004576   \n",
              "EmpJobInvolvement                           -0.019944              0.012924   \n",
              "EmpJobLevel                                  0.360880              0.374872   \n",
              "EmpJobSatisfaction                          -0.006508             -0.022096   \n",
              "NumCompaniesWorked                          -0.031656             -0.109937   \n",
              "EmpLastSalaryHikePercent                    -0.015911             -0.007666   \n",
              "EmpRelationshipSatisfaction                  0.026253             -0.006426   \n",
              "TotalWorkExperienceInYears                   0.412781              0.460783   \n",
              "TrainingTimesLastYear                        0.018831             -0.013237   \n",
              "EmpWorkLifeBalance                           0.015773              0.010518   \n",
              "ExperienceYearsAtThisCompany                 0.620230              0.759258   \n",
              "ExperienceYearsInCurrentRole                 0.540600              0.728973   \n",
              "YearsSinceLastPromotion                      1.000000              0.491199   \n",
              "YearsWithCurrManager                         0.491199              1.000000   \n",
              "PerformanceRating                           -0.167629             -0.122313   \n",
              "empdep                                       0.052315              0.033850   \n",
              "empjr                                        0.012190             -0.004504   \n",
              "\n",
              "                              PerformanceRating    empdep     empjr  \n",
              "Age                                   -0.040164 -0.000104 -0.037665  \n",
              "DistanceFromHome                      -0.046142  0.007707  0.022939  \n",
              "EmpEducationLevel                      0.020529  0.019175 -0.016792  \n",
              "EmpEnvironmentSatisfaction             0.395561 -0.019237  0.044612  \n",
              "EmpHourlyRate                         -0.043116  0.003957 -0.016179  \n",
              "EmpJobInvolvement                     -0.010539 -0.076988 -0.008034  \n",
              "EmpJobLevel                           -0.076632  0.100526  0.004406  \n",
              "EmpJobSatisfaction                     0.000606  0.007150  0.032916  \n",
              "NumCompaniesWorked                     0.020980 -0.033950 -0.009111  \n",
              "EmpLastSalaryHikePercent               0.333722 -0.012661  0.005735  \n",
              "EmpRelationshipSatisfaction           -0.019502 -0.050286 -0.043067  \n",
              "TotalWorkExperienceInYears            -0.068141  0.016065 -0.049529  \n",
              "TrainingTimesLastYear                 -0.005443  0.016438  0.004452  \n",
              "EmpWorkLifeBalance                     0.124429  0.068875 -0.007519  \n",
              "ExperienceYearsAtThisCompany          -0.111645  0.047677 -0.009047  \n",
              "ExperienceYearsInCurrentRole          -0.147638  0.069602  0.019383  \n",
              "YearsSinceLastPromotion               -0.167629  0.052315  0.012190  \n",
              "YearsWithCurrManager                  -0.122313  0.033850 -0.004504  \n",
              "PerformanceRating                      1.000000 -0.162615 -0.096209  \n",
              "empdep                                -0.162615  1.000000  0.568973  \n",
              "empjr                                 -0.096209  0.568973  1.000000  \n",
              "\n",
              "[21 rows x 21 columns]"
            ]
          },
          "execution_count": 99,
          "metadata": {},
          "output_type": "execute_result"
        }
      ],
      "source": [
        "# Finding out the correlation coeffecient to find out which predictors are significant.\n",
        "data.corr()"
      ]
    },
    {
      "cell_type": "code",
      "execution_count": null,
      "metadata": {
        "id": "IUn4vKgIe4dm"
      },
      "outputs": [],
      "source": [
        "# Dropping the first columns as it is of no use for analysis.\n",
        "data.drop(['EmpNumber'],inplace=True,axis=1)"
      ]
    },
    {
      "cell_type": "code",
      "execution_count": null,
      "metadata": {
        "id": "pCpn_Vide4dm",
        "outputId": "d6fef512-f89d-4d90-8e2d-1fc5be703b87"
      },
      "outputs": [
        {
          "data": {
            "text/html": [
              "<div>\n",
              "<style scoped>\n",
              "    .dataframe tbody tr th:only-of-type {\n",
              "        vertical-align: middle;\n",
              "    }\n",
              "\n",
              "    .dataframe tbody tr th {\n",
              "        vertical-align: top;\n",
              "    }\n",
              "\n",
              "    .dataframe thead th {\n",
              "        text-align: right;\n",
              "    }\n",
              "</style>\n",
              "<table border=\"1\" class=\"dataframe\">\n",
              "  <thead>\n",
              "    <tr style=\"text-align: right;\">\n",
              "      <th></th>\n",
              "      <th>Age</th>\n",
              "      <th>Gender</th>\n",
              "      <th>EducationBackground</th>\n",
              "      <th>MaritalStatus</th>\n",
              "      <th>EmpDepartment</th>\n",
              "      <th>EmpJobRole</th>\n",
              "      <th>BusinessTravelFrequency</th>\n",
              "      <th>DistanceFromHome</th>\n",
              "      <th>EmpEducationLevel</th>\n",
              "      <th>EmpEnvironmentSatisfaction</th>\n",
              "      <th>...</th>\n",
              "      <th>TrainingTimesLastYear</th>\n",
              "      <th>EmpWorkLifeBalance</th>\n",
              "      <th>ExperienceYearsAtThisCompany</th>\n",
              "      <th>ExperienceYearsInCurrentRole</th>\n",
              "      <th>YearsSinceLastPromotion</th>\n",
              "      <th>YearsWithCurrManager</th>\n",
              "      <th>Attrition</th>\n",
              "      <th>PerformanceRating</th>\n",
              "      <th>empdep</th>\n",
              "      <th>empjr</th>\n",
              "    </tr>\n",
              "  </thead>\n",
              "  <tbody>\n",
              "    <tr>\n",
              "      <th>0</th>\n",
              "      <td>32</td>\n",
              "      <td>Male</td>\n",
              "      <td>Marketing</td>\n",
              "      <td>Single</td>\n",
              "      <td>Sales</td>\n",
              "      <td>Sales Executive</td>\n",
              "      <td>Travel_Rarely</td>\n",
              "      <td>10</td>\n",
              "      <td>3</td>\n",
              "      <td>4</td>\n",
              "      <td>...</td>\n",
              "      <td>2</td>\n",
              "      <td>2</td>\n",
              "      <td>10</td>\n",
              "      <td>7</td>\n",
              "      <td>0</td>\n",
              "      <td>8</td>\n",
              "      <td>No</td>\n",
              "      <td>3</td>\n",
              "      <td>5</td>\n",
              "      <td>13</td>\n",
              "    </tr>\n",
              "    <tr>\n",
              "      <th>1</th>\n",
              "      <td>47</td>\n",
              "      <td>Male</td>\n",
              "      <td>Marketing</td>\n",
              "      <td>Single</td>\n",
              "      <td>Sales</td>\n",
              "      <td>Sales Executive</td>\n",
              "      <td>Travel_Rarely</td>\n",
              "      <td>14</td>\n",
              "      <td>4</td>\n",
              "      <td>4</td>\n",
              "      <td>...</td>\n",
              "      <td>2</td>\n",
              "      <td>3</td>\n",
              "      <td>7</td>\n",
              "      <td>7</td>\n",
              "      <td>1</td>\n",
              "      <td>7</td>\n",
              "      <td>No</td>\n",
              "      <td>3</td>\n",
              "      <td>5</td>\n",
              "      <td>13</td>\n",
              "    </tr>\n",
              "    <tr>\n",
              "      <th>2</th>\n",
              "      <td>40</td>\n",
              "      <td>Male</td>\n",
              "      <td>Life Sciences</td>\n",
              "      <td>Married</td>\n",
              "      <td>Sales</td>\n",
              "      <td>Sales Executive</td>\n",
              "      <td>Travel_Frequently</td>\n",
              "      <td>5</td>\n",
              "      <td>4</td>\n",
              "      <td>4</td>\n",
              "      <td>...</td>\n",
              "      <td>2</td>\n",
              "      <td>3</td>\n",
              "      <td>18</td>\n",
              "      <td>13</td>\n",
              "      <td>1</td>\n",
              "      <td>12</td>\n",
              "      <td>No</td>\n",
              "      <td>4</td>\n",
              "      <td>5</td>\n",
              "      <td>13</td>\n",
              "    </tr>\n",
              "    <tr>\n",
              "      <th>3</th>\n",
              "      <td>41</td>\n",
              "      <td>Male</td>\n",
              "      <td>Human Resources</td>\n",
              "      <td>Divorced</td>\n",
              "      <td>Human Resources</td>\n",
              "      <td>Manager</td>\n",
              "      <td>Travel_Rarely</td>\n",
              "      <td>10</td>\n",
              "      <td>4</td>\n",
              "      <td>2</td>\n",
              "      <td>...</td>\n",
              "      <td>2</td>\n",
              "      <td>2</td>\n",
              "      <td>21</td>\n",
              "      <td>6</td>\n",
              "      <td>12</td>\n",
              "      <td>6</td>\n",
              "      <td>No</td>\n",
              "      <td>3</td>\n",
              "      <td>3</td>\n",
              "      <td>8</td>\n",
              "    </tr>\n",
              "    <tr>\n",
              "      <th>4</th>\n",
              "      <td>60</td>\n",
              "      <td>Male</td>\n",
              "      <td>Marketing</td>\n",
              "      <td>Single</td>\n",
              "      <td>Sales</td>\n",
              "      <td>Sales Executive</td>\n",
              "      <td>Travel_Rarely</td>\n",
              "      <td>16</td>\n",
              "      <td>4</td>\n",
              "      <td>1</td>\n",
              "      <td>...</td>\n",
              "      <td>1</td>\n",
              "      <td>3</td>\n",
              "      <td>2</td>\n",
              "      <td>2</td>\n",
              "      <td>2</td>\n",
              "      <td>2</td>\n",
              "      <td>No</td>\n",
              "      <td>3</td>\n",
              "      <td>5</td>\n",
              "      <td>13</td>\n",
              "    </tr>\n",
              "  </tbody>\n",
              "</table>\n",
              "<p>5 rows × 29 columns</p>\n",
              "</div>"
            ],
            "text/plain": [
              "   Age Gender EducationBackground MaritalStatus    EmpDepartment  \\\n",
              "0   32   Male           Marketing        Single            Sales   \n",
              "1   47   Male           Marketing        Single            Sales   \n",
              "2   40   Male       Life Sciences       Married            Sales   \n",
              "3   41   Male     Human Resources      Divorced  Human Resources   \n",
              "4   60   Male           Marketing        Single            Sales   \n",
              "\n",
              "        EmpJobRole BusinessTravelFrequency  DistanceFromHome  \\\n",
              "0  Sales Executive           Travel_Rarely                10   \n",
              "1  Sales Executive           Travel_Rarely                14   \n",
              "2  Sales Executive       Travel_Frequently                 5   \n",
              "3          Manager           Travel_Rarely                10   \n",
              "4  Sales Executive           Travel_Rarely                16   \n",
              "\n",
              "   EmpEducationLevel  EmpEnvironmentSatisfaction  ...  TrainingTimesLastYear  \\\n",
              "0                  3                           4  ...                      2   \n",
              "1                  4                           4  ...                      2   \n",
              "2                  4                           4  ...                      2   \n",
              "3                  4                           2  ...                      2   \n",
              "4                  4                           1  ...                      1   \n",
              "\n",
              "   EmpWorkLifeBalance  ExperienceYearsAtThisCompany  \\\n",
              "0                   2                            10   \n",
              "1                   3                             7   \n",
              "2                   3                            18   \n",
              "3                   2                            21   \n",
              "4                   3                             2   \n",
              "\n",
              "   ExperienceYearsInCurrentRole  YearsSinceLastPromotion YearsWithCurrManager  \\\n",
              "0                             7                        0                    8   \n",
              "1                             7                        1                    7   \n",
              "2                            13                        1                   12   \n",
              "3                             6                       12                    6   \n",
              "4                             2                        2                    2   \n",
              "\n",
              "   Attrition  PerformanceRating  empdep  empjr  \n",
              "0         No                  3       5     13  \n",
              "1         No                  3       5     13  \n",
              "2         No                  4       5     13  \n",
              "3         No                  3       3      8  \n",
              "4         No                  3       5     13  \n",
              "\n",
              "[5 rows x 29 columns]"
            ]
          },
          "execution_count": 101,
          "metadata": {},
          "output_type": "execute_result"
        }
      ],
      "source": [
        "data.head()"
      ]
    },
    {
      "cell_type": "code",
      "execution_count": null,
      "metadata": {
        "id": "YTgCvj6ze4dm",
        "outputId": "66253379-31d8-47e0-8ba2-e0631cd1afff"
      },
      "outputs": [
        {
          "data": {
            "text/html": [
              "<div>\n",
              "<style scoped>\n",
              "    .dataframe tbody tr th:only-of-type {\n",
              "        vertical-align: middle;\n",
              "    }\n",
              "\n",
              "    .dataframe tbody tr th {\n",
              "        vertical-align: top;\n",
              "    }\n",
              "\n",
              "    .dataframe thead th {\n",
              "        text-align: right;\n",
              "    }\n",
              "</style>\n",
              "<table border=\"1\" class=\"dataframe\">\n",
              "  <thead>\n",
              "    <tr style=\"text-align: right;\">\n",
              "      <th></th>\n",
              "      <th>EmpEnvironmentSatisfaction</th>\n",
              "      <th>EmpLastSalaryHikePercent</th>\n",
              "      <th>EmpWorkLifeBalance</th>\n",
              "      <th>ExperienceYearsAtThisCompany</th>\n",
              "      <th>ExperienceYearsInCurrentRole</th>\n",
              "      <th>YearsSinceLastPromotion</th>\n",
              "      <th>YearsWithCurrManager</th>\n",
              "      <th>empdep</th>\n",
              "      <th>empjr</th>\n",
              "    </tr>\n",
              "  </thead>\n",
              "  <tbody>\n",
              "    <tr>\n",
              "      <th>0</th>\n",
              "      <td>4</td>\n",
              "      <td>12</td>\n",
              "      <td>2</td>\n",
              "      <td>10</td>\n",
              "      <td>7</td>\n",
              "      <td>0</td>\n",
              "      <td>8</td>\n",
              "      <td>5</td>\n",
              "      <td>13</td>\n",
              "    </tr>\n",
              "    <tr>\n",
              "      <th>1</th>\n",
              "      <td>4</td>\n",
              "      <td>12</td>\n",
              "      <td>3</td>\n",
              "      <td>7</td>\n",
              "      <td>7</td>\n",
              "      <td>1</td>\n",
              "      <td>7</td>\n",
              "      <td>5</td>\n",
              "      <td>13</td>\n",
              "    </tr>\n",
              "    <tr>\n",
              "      <th>2</th>\n",
              "      <td>4</td>\n",
              "      <td>21</td>\n",
              "      <td>3</td>\n",
              "      <td>18</td>\n",
              "      <td>13</td>\n",
              "      <td>1</td>\n",
              "      <td>12</td>\n",
              "      <td>5</td>\n",
              "      <td>13</td>\n",
              "    </tr>\n",
              "    <tr>\n",
              "      <th>3</th>\n",
              "      <td>2</td>\n",
              "      <td>15</td>\n",
              "      <td>2</td>\n",
              "      <td>21</td>\n",
              "      <td>6</td>\n",
              "      <td>12</td>\n",
              "      <td>6</td>\n",
              "      <td>3</td>\n",
              "      <td>8</td>\n",
              "    </tr>\n",
              "    <tr>\n",
              "      <th>4</th>\n",
              "      <td>1</td>\n",
              "      <td>14</td>\n",
              "      <td>3</td>\n",
              "      <td>2</td>\n",
              "      <td>2</td>\n",
              "      <td>2</td>\n",
              "      <td>2</td>\n",
              "      <td>5</td>\n",
              "      <td>13</td>\n",
              "    </tr>\n",
              "  </tbody>\n",
              "</table>\n",
              "</div>"
            ],
            "text/plain": [
              "   EmpEnvironmentSatisfaction  EmpLastSalaryHikePercent  EmpWorkLifeBalance  \\\n",
              "0                           4                        12                   2   \n",
              "1                           4                        12                   3   \n",
              "2                           4                        21                   3   \n",
              "3                           2                        15                   2   \n",
              "4                           1                        14                   3   \n",
              "\n",
              "   ExperienceYearsAtThisCompany  ExperienceYearsInCurrentRole  \\\n",
              "0                            10                             7   \n",
              "1                             7                             7   \n",
              "2                            18                            13   \n",
              "3                            21                             6   \n",
              "4                             2                             2   \n",
              "\n",
              "   YearsSinceLastPromotion  YearsWithCurrManager  empdep  empjr  \n",
              "0                        0                     8       5     13  \n",
              "1                        1                     7       5     13  \n",
              "2                        1                    12       5     13  \n",
              "3                       12                     6       3      8  \n",
              "4                        2                     2       5     13  "
            ]
          },
          "execution_count": 102,
          "metadata": {},
          "output_type": "execute_result"
        }
      ],
      "source": [
        "# Here we have selected only the important columns\n",
        "y = data.PerformanceRating\n",
        "#X = data.iloc[:,0:-1]  All predictors were selected it resulted in dropping of accuracy.\n",
        "#X = data.iloc[:,[4,5,9,16,20,21,22,23,24]] # Taking only variables with correlation coeffecient greater than 0.1\n",
        "X = data.iloc[:,[9,16,20,21,22,23,24,27,28]]\n",
        "X.head()"
      ]
    },
    {
      "cell_type": "code",
      "execution_count": null,
      "metadata": {
        "id": "nStnmDz0e4dm"
      },
      "outputs": [],
      "source": [
        "# Splitting into train and test for calculating the accuracy\n",
        "X_train, X_test, y_train, y_test = train_test_split(X,y,test_size=0.3,random_state=10)"
      ]
    },
    {
      "cell_type": "code",
      "execution_count": null,
      "metadata": {
        "id": "PPSwZjhKe4dm"
      },
      "outputs": [],
      "source": [
        "# Standardization technique is used\n",
        "sc = StandardScaler()\n",
        "X_train = sc.fit_transform(X_train)\n",
        "X_test = sc.transform(X_test)"
      ]
    },
    {
      "cell_type": "code",
      "execution_count": null,
      "metadata": {
        "id": "-JkWe0eEe4dm",
        "outputId": "615f2419-07d4-4815-bbdf-5abeed073563"
      },
      "outputs": [
        {
          "data": {
            "text/plain": [
              "(840, 9)"
            ]
          },
          "execution_count": 105,
          "metadata": {},
          "output_type": "execute_result"
        }
      ],
      "source": [
        "X_train.shape"
      ]
    },
    {
      "cell_type": "code",
      "execution_count": null,
      "metadata": {
        "id": "FprSJZ6we4dm",
        "outputId": "1f5d59aa-b7ca-4651-ef22-36d4eb843b5c"
      },
      "outputs": [
        {
          "data": {
            "text/plain": [
              "(360, 9)"
            ]
          },
          "execution_count": 106,
          "metadata": {},
          "output_type": "execute_result"
        }
      ],
      "source": [
        "X_test.shape"
      ]
    },
    {
      "cell_type": "markdown",
      "metadata": {
        "id": "qiG1_21je4dm"
      },
      "source": [
        "#### PCA was used, it resulted in decline of accuracy.\n",
        "    from sklearn.decomposition import PCA\n",
        "    pca=PCA(n_components=None)\n",
        "    X_train=pca.fit_transform(X_train)\n",
        "    X_test=pca.transform(X_test)\n",
        "    pca.explained_variance_ratio_"
      ]
    },
    {
      "cell_type": "markdown",
      "metadata": {
        "id": "_IsSvTjne4dm"
      },
      "source": [
        "## Models"
      ]
    },
    {
      "cell_type": "markdown",
      "metadata": {
        "id": "ede6mDUje4dm"
      },
      "source": [
        "-     In the section below, we used algorithms like Logistic Regression, Support Vector Machine, Decision Tree, Random Forest, Naive Bayes, K-Nearest Neighbor, XGBoost Classifier and Artificial Neural Network to calculate the accuracy and found out that Random Forest with GridSearchCV gives the maximum accuracy of 93%."
      ]
    },
    {
      "cell_type": "markdown",
      "metadata": {
        "id": "R0nxyh7Fe4dm"
      },
      "source": [
        "## 1. Logistic Regression"
      ]
    },
    {
      "cell_type": "code",
      "execution_count": null,
      "metadata": {
        "id": "ar0mJDDVe4dm",
        "outputId": "d13ce5c1-4bd6-4f0e-8d77-20f2f67b07c3"
      },
      "outputs": [
        {
          "data": {
            "text/plain": [
              "LogisticRegression(C=1.0, class_weight=None, dual=False, fit_intercept=True,\n",
              "                   intercept_scaling=1, l1_ratio=None, max_iter=100,\n",
              "                   multi_class='auto', n_jobs=None, penalty='l2',\n",
              "                   random_state=None, solver='lbfgs', tol=0.0001, verbose=0,\n",
              "                   warm_start=False)"
            ]
          },
          "execution_count": 107,
          "metadata": {},
          "output_type": "execute_result"
        }
      ],
      "source": [
        "# Training the model\n",
        "from sklearn.linear_model import LogisticRegression\n",
        "model_logr = LogisticRegression()\n",
        "model_logr.fit(X_train,y_train)"
      ]
    },
    {
      "cell_type": "code",
      "execution_count": null,
      "metadata": {
        "id": "CMJESpxue4dn"
      },
      "outputs": [],
      "source": [
        "# Predicting the model\n",
        "y_predict_log = model_logr.predict(X_test)"
      ]
    },
    {
      "cell_type": "code",
      "execution_count": null,
      "metadata": {
        "id": "qXikHKB5e4dn",
        "outputId": "fd6b82a8-7ec4-4d42-cfa2-2650dde938cf"
      },
      "outputs": [
        {
          "name": "stdout",
          "output_type": "stream",
          "text": [
            "0.8333333333333334\n",
            "              precision    recall  f1-score   support\n",
            "\n",
            "           2       0.65      0.48      0.55        63\n",
            "           3       0.86      0.94      0.90       264\n",
            "           4       0.81      0.67      0.73        33\n",
            "\n",
            "    accuracy                           0.83       360\n",
            "   macro avg       0.78      0.69      0.73       360\n",
            "weighted avg       0.82      0.83      0.82       360\n",
            "\n"
          ]
        }
      ],
      "source": [
        "# Finding accuracy, precision, recall and confusion matrix\n",
        "print(accuracy_score(y_test,y_predict_log))\n",
        "print(classification_report(y_test,y_predict_log))"
      ]
    },
    {
      "cell_type": "code",
      "execution_count": null,
      "metadata": {
        "id": "yP-T4nW7e4dn",
        "outputId": "9a121181-ad5e-422d-f27f-42003c69859e"
      },
      "outputs": [
        {
          "data": {
            "text/plain": [
              "array([[ 30,  30,   3],\n",
              "       [ 14, 248,   2],\n",
              "       [  2,   9,  22]])"
            ]
          },
          "execution_count": 110,
          "metadata": {},
          "output_type": "execute_result"
        }
      ],
      "source": [
        "confusion_matrix(y_test,y_predict_log)"
      ]
    },
    {
      "cell_type": "markdown",
      "metadata": {
        "id": "BClxz6T2e4dq"
      },
      "source": [
        "## 2. Support Vector Machine"
      ]
    },
    {
      "cell_type": "code",
      "execution_count": null,
      "metadata": {
        "id": "rDZwxJAQe4dq"
      },
      "outputs": [],
      "source": [
        "# Training the model\n",
        "from sklearn.svm import SVC\n",
        "rbf_svc = SVC(kernel='rbf', C=100, random_state=10).fit(X_train,y_train)"
      ]
    },
    {
      "cell_type": "code",
      "execution_count": null,
      "metadata": {
        "id": "hsKsPbkne4dr"
      },
      "outputs": [],
      "source": [
        "# Predicting the model\n",
        "y_predict_svm = rbf_svc.predict(X_test)"
      ]
    },
    {
      "cell_type": "code",
      "execution_count": null,
      "metadata": {
        "id": "rGOfEOZde4dr",
        "outputId": "68fbb3c9-cf97-4b6d-85e7-37b17f7cb1d2"
      },
      "outputs": [
        {
          "name": "stdout",
          "output_type": "stream",
          "text": [
            "0.8444444444444444\n",
            "              precision    recall  f1-score   support\n",
            "\n",
            "           2       0.74      0.78      0.76        63\n",
            "           3       0.92      0.88      0.90       264\n",
            "           4       0.54      0.67      0.59        33\n",
            "\n",
            "    accuracy                           0.84       360\n",
            "   macro avg       0.73      0.78      0.75       360\n",
            "weighted avg       0.85      0.84      0.85       360\n",
            "\n"
          ]
        }
      ],
      "source": [
        "# Finding accuracy, precision, recall and confusion matrix\n",
        "print(accuracy_score(y_test,y_predict_svm))\n",
        "print(classification_report(y_test,y_predict_svm))"
      ]
    },
    {
      "cell_type": "code",
      "execution_count": null,
      "metadata": {
        "id": "iANfeSQfe4dr",
        "outputId": "30049923-4943-4da1-fbc6-d5b213051f87"
      },
      "outputs": [
        {
          "data": {
            "text/plain": [
              "array([[ 49,  13,   1],\n",
              "       [ 13, 233,  18],\n",
              "       [  4,   7,  22]])"
            ]
          },
          "execution_count": 114,
          "metadata": {},
          "output_type": "execute_result"
        }
      ],
      "source": [
        "confusion_matrix(y_test,y_predict_svm)"
      ]
    },
    {
      "cell_type": "markdown",
      "metadata": {
        "id": "mcwmiSXqe4dr"
      },
      "source": [
        "## 3. Decision Tree with GridSearchCV"
      ]
    },
    {
      "cell_type": "code",
      "execution_count": null,
      "metadata": {
        "id": "EX1E3z_7e4dr",
        "outputId": "70e29e8c-3150-4dc5-8f06-d78be98ef8ef"
      },
      "outputs": [
        {
          "data": {
            "text/plain": [
              "GridSearchCV(cv=10, error_score=nan,\n",
              "             estimator=DecisionTreeClassifier(ccp_alpha=0.0, class_weight=None,\n",
              "                                              criterion='gini', max_depth=None,\n",
              "                                              max_features=None,\n",
              "                                              max_leaf_nodes=None,\n",
              "                                              min_impurity_decrease=0.0,\n",
              "                                              min_impurity_split=None,\n",
              "                                              min_samples_leaf=1,\n",
              "                                              min_samples_split=2,\n",
              "                                              min_weight_fraction_leaf=0.0,\n",
              "                                              presort='deprecated',\n",
              "                                              random_state=42,\n",
              "                                              splitter='best'),\n",
              "             iid='deprecated', n_jobs=None,\n",
              "             param_grid=[{'criterion': ['gini'],\n",
              "                          'min_samples_split': [2, 3, 4, 5]},\n",
              "                         {'criterion': ['entropy'],\n",
              "                          'min_samples_split': [2, 3, 4, 5]}],\n",
              "             pre_dispatch='2*n_jobs', refit=True, return_train_score=False,\n",
              "             scoring='accuracy', verbose=0)"
            ]
          },
          "execution_count": 115,
          "metadata": {},
          "output_type": "execute_result"
        }
      ],
      "source": [
        "# Training the model\n",
        "from sklearn.tree import DecisionTreeClassifier\n",
        "\n",
        "classifier_dtg=DecisionTreeClassifier(random_state=42,splitter='best')\n",
        "parameters=[{'min_samples_split':[2,3,4,5],'criterion':['gini']},{'min_samples_split':[2,3,4,5],'criterion':['entropy']}]\n",
        "\n",
        "model_griddtree=GridSearchCV(estimator=classifier_dtg, param_grid=parameters, scoring='accuracy',cv=10)\n",
        "model_griddtree.fit(X_train,y_train)"
      ]
    },
    {
      "cell_type": "code",
      "execution_count": null,
      "metadata": {
        "id": "NzJz_L4Ne4dr",
        "outputId": "3ff8173d-97d9-40ca-a82f-57daefb949a2"
      },
      "outputs": [
        {
          "data": {
            "text/plain": [
              "{'criterion': 'entropy', 'min_samples_split': 5}"
            ]
          },
          "execution_count": 116,
          "metadata": {},
          "output_type": "execute_result"
        }
      ],
      "source": [
        "model_griddtree.best_params_"
      ]
    },
    {
      "cell_type": "code",
      "execution_count": null,
      "metadata": {
        "id": "TNVFEl5de4dr"
      },
      "outputs": [],
      "source": [
        "# Predicting the model\n",
        "y_predict_dtree = model_griddtree.predict(X_test)"
      ]
    },
    {
      "cell_type": "code",
      "execution_count": null,
      "metadata": {
        "id": "MZ4eSDp2e4dr",
        "outputId": "9b780bbe-35fd-4a4c-ddf7-986fea6dd4b2"
      },
      "outputs": [
        {
          "name": "stdout",
          "output_type": "stream",
          "text": [
            "0.9\n",
            "              precision    recall  f1-score   support\n",
            "\n",
            "           2       0.85      0.79      0.82        63\n",
            "           3       0.93      0.95      0.94       264\n",
            "           4       0.75      0.73      0.74        33\n",
            "\n",
            "    accuracy                           0.90       360\n",
            "   macro avg       0.84      0.82      0.83       360\n",
            "weighted avg       0.90      0.90      0.90       360\n",
            "\n"
          ]
        }
      ],
      "source": [
        "# Finding accuracy, precision, recall and confusion matrix\n",
        "print(accuracy_score(y_test,y_predict_dtree))\n",
        "print(classification_report(y_test,y_predict_dtree))"
      ]
    },
    {
      "cell_type": "code",
      "execution_count": null,
      "metadata": {
        "id": "F8dUdB0Ne4dr",
        "outputId": "4fda5801-8342-4de2-8c05-2edcdf5a3408"
      },
      "outputs": [
        {
          "data": {
            "text/plain": [
              "array([[ 50,  12,   1],\n",
              "       [  7, 250,   7],\n",
              "       [  2,   7,  24]])"
            ]
          },
          "execution_count": 119,
          "metadata": {},
          "output_type": "execute_result"
        }
      ],
      "source": [
        "confusion_matrix(y_test,y_predict_dtree)"
      ]
    },
    {
      "cell_type": "markdown",
      "metadata": {
        "id": "ELNrO3Lwe4dr"
      },
      "source": [
        "## 4. Random Forest with GridSearchCV"
      ]
    },
    {
      "cell_type": "code",
      "execution_count": null,
      "metadata": {
        "id": "mOOa56fLe4dr",
        "outputId": "ca665925-5348-4cfd-8fcd-660b1f8ae0b6"
      },
      "outputs": [
        {
          "data": {
            "text/plain": [
              "GridSearchCV(cv=10, error_score=nan,\n",
              "             estimator=RandomForestClassifier(bootstrap=True, ccp_alpha=0.0,\n",
              "                                              class_weight=None,\n",
              "                                              criterion='gini', max_depth=None,\n",
              "                                              max_features='auto',\n",
              "                                              max_leaf_nodes=None,\n",
              "                                              max_samples=None,\n",
              "                                              min_impurity_decrease=0.0,\n",
              "                                              min_impurity_split=None,\n",
              "                                              min_samples_leaf=1,\n",
              "                                              min_samples_split=2,\n",
              "                                              min_weight_fraction_leaf=0.0,\n",
              "                                              n_estimators=23, n_jobs=None,\n",
              "                                              oob_score=False, random_state=33,\n",
              "                                              verbose=0, warm_start=False),\n",
              "             iid='deprecated', n_jobs=None,\n",
              "             param_grid=[{'criterion': ['gini', 'entropy'],\n",
              "                          'min_samples_leaf': [1, 2, 3],\n",
              "                          'min_samples_split': [2, 3, 4, 5]}],\n",
              "             pre_dispatch='2*n_jobs', refit=True, return_train_score=False,\n",
              "             scoring='accuracy', verbose=0)"
            ]
          },
          "execution_count": 94,
          "metadata": {},
          "output_type": "execute_result"
        }
      ],
      "source": [
        "# Training the model\n",
        "from sklearn.ensemble import RandomForestClassifier\n",
        "\n",
        "classifier_rfg=RandomForestClassifier(random_state=33,n_estimators=23)\n",
        "parameters=[{'min_samples_split':[2,3,4,5],'criterion':['gini','entropy'],'min_samples_leaf':[1,2,3]}]\n",
        "\n",
        "model_gridrf=GridSearchCV(estimator=classifier_rfg, param_grid=parameters, scoring='accuracy',cv=10)\n",
        "model_gridrf.fit(X_train,y_train)"
      ]
    },
    {
      "cell_type": "code",
      "execution_count": null,
      "metadata": {
        "id": "jFY5bGCwe4dr",
        "outputId": "c2ab3041-a109-4982-9e0b-9f08a17f666c"
      },
      "outputs": [
        {
          "data": {
            "text/plain": [
              "{'criterion': 'gini', 'min_samples_leaf': 1, 'min_samples_split': 4}"
            ]
          },
          "execution_count": 95,
          "metadata": {},
          "output_type": "execute_result"
        }
      ],
      "source": [
        "model_gridrf.best_params_"
      ]
    },
    {
      "cell_type": "code",
      "execution_count": null,
      "metadata": {
        "id": "_BlKWyuHe4dr"
      },
      "outputs": [],
      "source": [
        "# Predicting the model\n",
        "y_predict_rf = model_gridrf.predict(X_test)"
      ]
    },
    {
      "cell_type": "code",
      "execution_count": null,
      "metadata": {
        "id": "QMWh1be_e4dr",
        "outputId": "9b524c6c-b590-4322-b1c8-ba85f22c01de"
      },
      "outputs": [
        {
          "name": "stdout",
          "output_type": "stream",
          "text": [
            "0.9305555555555556\n",
            "              precision    recall  f1-score   support\n",
            "\n",
            "           2       0.92      0.89      0.90        63\n",
            "           3       0.94      0.97      0.96       264\n",
            "           4       0.83      0.73      0.77        33\n",
            "\n",
            "    accuracy                           0.93       360\n",
            "   macro avg       0.90      0.86      0.88       360\n",
            "weighted avg       0.93      0.93      0.93       360\n",
            "\n"
          ]
        }
      ],
      "source": [
        "# Finding accuracy, precision, recall and confusion matrix\n",
        "print(accuracy_score(y_test,y_predict_rf))\n",
        "print(classification_report(y_test,y_predict_rf))"
      ]
    },
    {
      "cell_type": "code",
      "execution_count": null,
      "metadata": {
        "id": "xdJ653iSe4ds",
        "outputId": "1a1db1e4-b663-4d10-bdc2-b23eabdc2cb0"
      },
      "outputs": [
        {
          "data": {
            "text/plain": [
              "array([[ 56,   7,   0],\n",
              "       [  4, 255,   5],\n",
              "       [  1,   8,  24]])"
            ]
          },
          "execution_count": 98,
          "metadata": {},
          "output_type": "execute_result"
        }
      ],
      "source": [
        "confusion_matrix(y_test,y_predict_rf)"
      ]
    },
    {
      "cell_type": "markdown",
      "metadata": {
        "id": "SJRHzk9Ge4ds"
      },
      "source": [
        "## 5. Naive Bayes Bernoulli"
      ]
    },
    {
      "cell_type": "code",
      "execution_count": null,
      "metadata": {
        "id": "5NYK0P2Pe4ds",
        "outputId": "49e43b04-d0bc-4fe2-9451-2e3b9b065bc0"
      },
      "outputs": [
        {
          "data": {
            "text/plain": [
              "BernoulliNB(alpha=1.0, binarize=0.0, class_prior=None, fit_prior=True)"
            ]
          },
          "execution_count": 99,
          "metadata": {},
          "output_type": "execute_result"
        }
      ],
      "source": [
        "# Training the model\n",
        "from sklearn.naive_bayes import BernoulliNB\n",
        "model_nb = BernoulliNB()\n",
        "model_nb.fit(X_train,y_train)"
      ]
    },
    {
      "cell_type": "code",
      "execution_count": null,
      "metadata": {
        "id": "krrGHdAQe4ds"
      },
      "outputs": [],
      "source": [
        "# Predicting the model\n",
        "y_predict_nb = model_nb.predict(X_test)"
      ]
    },
    {
      "cell_type": "code",
      "execution_count": null,
      "metadata": {
        "id": "Ha-90g2se4ds",
        "outputId": "9bc4392f-e4eb-4e41-ce88-52e3ff34366d"
      },
      "outputs": [
        {
          "name": "stdout",
          "output_type": "stream",
          "text": [
            "0.7944444444444444\n",
            "              precision    recall  f1-score   support\n",
            "\n",
            "           2       0.75      0.48      0.58        63\n",
            "           3       0.80      0.97      0.88       264\n",
            "           4       0.00      0.00      0.00        33\n",
            "\n",
            "    accuracy                           0.79       360\n",
            "   macro avg       0.52      0.48      0.49       360\n",
            "weighted avg       0.72      0.79      0.74       360\n",
            "\n"
          ]
        }
      ],
      "source": [
        "# Finding accuracy, precision, recall and confusion matrix\n",
        "print(accuracy_score(y_test,y_predict_nb))\n",
        "print(classification_report(y_test,y_predict_nb))"
      ]
    },
    {
      "cell_type": "code",
      "execution_count": null,
      "metadata": {
        "id": "_sgUX9IKe4ds",
        "outputId": "82192cc3-2ccb-4a15-f9a4-72f5f5d93956"
      },
      "outputs": [
        {
          "data": {
            "text/plain": [
              "array([[ 30,  33,   0],\n",
              "       [  8, 256,   0],\n",
              "       [  2,  31,   0]])"
            ]
          },
          "execution_count": 102,
          "metadata": {},
          "output_type": "execute_result"
        }
      ],
      "source": [
        "confusion_matrix(y_test,y_predict_nb)"
      ]
    },
    {
      "cell_type": "markdown",
      "metadata": {
        "id": "tifoJ-Eze4ds"
      },
      "source": [
        "## 6. K-Nearest Neighbor"
      ]
    },
    {
      "cell_type": "code",
      "execution_count": null,
      "metadata": {
        "id": "Z-XQF8RAe4ds",
        "outputId": "2d80cf03-84c4-4a7f-dc94-1754491008e9"
      },
      "outputs": [
        {
          "data": {
            "text/plain": [
              "KNeighborsClassifier(algorithm='auto', leaf_size=30, metric='euclidean',\n",
              "                     metric_params=None, n_jobs=None, n_neighbors=10, p=2,\n",
              "                     weights='uniform')"
            ]
          },
          "execution_count": 103,
          "metadata": {},
          "output_type": "execute_result"
        }
      ],
      "source": [
        "# Training the model\n",
        "from sklearn.neighbors import KNeighborsClassifier\n",
        "model_knn = KNeighborsClassifier(n_neighbors=10,metric='euclidean') # Maximum accuracy for n=10\n",
        "model_knn.fit(X_train,y_train)"
      ]
    },
    {
      "cell_type": "code",
      "execution_count": null,
      "metadata": {
        "id": "9Id8LYEbe4ds"
      },
      "outputs": [],
      "source": [
        "# Predicting the model\n",
        "y_predict_knn = model_knn.predict(X_test)"
      ]
    },
    {
      "cell_type": "code",
      "execution_count": null,
      "metadata": {
        "id": "0ZiEIbi4e4ds",
        "outputId": "d5e065bc-b9c0-4299-8fe6-9c126d54e22c"
      },
      "outputs": [
        {
          "name": "stdout",
          "output_type": "stream",
          "text": [
            "0.8333333333333334\n",
            "              precision    recall  f1-score   support\n",
            "\n",
            "           2       0.74      0.59      0.65        63\n",
            "           3       0.85      0.94      0.90       264\n",
            "           4       0.78      0.42      0.55        33\n",
            "\n",
            "    accuracy                           0.83       360\n",
            "   macro avg       0.79      0.65      0.70       360\n",
            "weighted avg       0.83      0.83      0.82       360\n",
            "\n"
          ]
        }
      ],
      "source": [
        "# Finding accuracy, precision, recall and confusion matrix\n",
        "print(accuracy_score(y_test,y_predict_knn))\n",
        "print(classification_report(y_test,y_predict_knn))"
      ]
    },
    {
      "cell_type": "code",
      "execution_count": null,
      "metadata": {
        "id": "tWLxpfvge4ds",
        "outputId": "46cdfbc0-f010-4f81-c3b6-d4373962f536"
      },
      "outputs": [
        {
          "data": {
            "text/plain": [
              "array([[ 37,  25,   1],\n",
              "       [ 12, 249,   3],\n",
              "       [  1,  18,  14]])"
            ]
          },
          "execution_count": 106,
          "metadata": {},
          "output_type": "execute_result"
        }
      ],
      "source": [
        "confusion_matrix(y_test,y_predict_knn)"
      ]
    },
    {
      "cell_type": "markdown",
      "metadata": {
        "id": "1VgZDUYQe4ds"
      },
      "source": [
        "## 7. XGBoost Classifier"
      ]
    },
    {
      "cell_type": "code",
      "execution_count": null,
      "metadata": {
        "id": "hkpm8q4De4ds",
        "outputId": "04f478af-0b62-461d-fe71-51aabdf8754e"
      },
      "outputs": [
        {
          "data": {
            "text/plain": [
              "XGBClassifier(base_score=0.5, booster='gbtree', colsample_bylevel=1,\n",
              "              colsample_bynode=1, colsample_bytree=1, gamma=0, gpu_id=-1,\n",
              "              importance_type='gain', interaction_constraints='',\n",
              "              learning_rate=0.300000012, max_delta_step=0, max_depth=6,\n",
              "              min_child_weight=1, missing=nan, monotone_constraints='()',\n",
              "              n_estimators=100, n_jobs=0, num_parallel_tree=1,\n",
              "              objective='multi:softprob', random_state=0, reg_alpha=0,\n",
              "              reg_lambda=1, scale_pos_weight=None, subsample=1,\n",
              "              tree_method='exact', validate_parameters=1, verbosity=None)"
            ]
          },
          "execution_count": 107,
          "metadata": {},
          "output_type": "execute_result"
        }
      ],
      "source": [
        "# Training the model\n",
        "from xgboost import XGBClassifier\n",
        "model_xgb = XGBClassifier()\n",
        "model_xgb.fit(X_train,y_train)"
      ]
    },
    {
      "cell_type": "code",
      "execution_count": null,
      "metadata": {
        "id": "H2pX_QlXe4dt"
      },
      "outputs": [],
      "source": [
        "# Predicting the model\n",
        "y_predict_xgb = model_xgb.predict(X_test)"
      ]
    },
    {
      "cell_type": "code",
      "execution_count": null,
      "metadata": {
        "id": "nJ8fjM4de4dt",
        "outputId": "324a8386-3d04-4c1b-eb19-2e95eff83797"
      },
      "outputs": [
        {
          "name": "stdout",
          "output_type": "stream",
          "text": [
            "0.9194444444444444\n",
            "              precision    recall  f1-score   support\n",
            "\n",
            "           2       0.89      0.87      0.88        63\n",
            "           3       0.95      0.95      0.95       264\n",
            "           4       0.76      0.76      0.76        33\n",
            "\n",
            "    accuracy                           0.92       360\n",
            "   macro avg       0.86      0.86      0.86       360\n",
            "weighted avg       0.92      0.92      0.92       360\n",
            "\n"
          ]
        }
      ],
      "source": [
        "# Finding accuracy, precision, recall and confusion matrix\n",
        "print(accuracy_score(y_test,y_predict_xgb))\n",
        "print(classification_report(y_test,y_predict_xgb))"
      ]
    },
    {
      "cell_type": "code",
      "execution_count": null,
      "metadata": {
        "id": "mDBi2StCe4dt",
        "outputId": "4c9c3bb0-61ba-44e3-a188-c1fc112e5218"
      },
      "outputs": [
        {
          "data": {
            "text/plain": [
              "array([[ 55,   8,   0],\n",
              "       [  5, 251,   8],\n",
              "       [  2,   6,  25]])"
            ]
          },
          "execution_count": 110,
          "metadata": {},
          "output_type": "execute_result"
        }
      ],
      "source": [
        "confusion_matrix(y_test,y_predict_xgb)"
      ]
    },
    {
      "cell_type": "markdown",
      "metadata": {
        "id": "n4DPX_qOe4dt"
      },
      "source": [
        "## 8. Artificial Neural Network"
      ]
    },
    {
      "cell_type": "code",
      "execution_count": null,
      "metadata": {
        "id": "ZBPOiD8Ze4dt",
        "outputId": "e5610f14-cb79-4e48-eb87-efaf5d13a0ab"
      },
      "outputs": [
        {
          "data": {
            "text/plain": [
              "MLPClassifier(activation='relu', alpha=0.0001, batch_size=10, beta_1=0.9,\n",
              "              beta_2=0.999, early_stopping=False, epsilon=1e-08,\n",
              "              hidden_layer_sizes=(100, 100, 100), learning_rate='constant',\n",
              "              learning_rate_init=0.01, max_fun=15000, max_iter=2000,\n",
              "              momentum=0.9, n_iter_no_change=10, nesterovs_momentum=True,\n",
              "              power_t=0.5, random_state=10, shuffle=True, solver='adam',\n",
              "              tol=0.0001, validation_fraction=0.1, verbose=False,\n",
              "              warm_start=False)"
            ]
          },
          "execution_count": 111,
          "metadata": {},
          "output_type": "execute_result"
        }
      ],
      "source": [
        "# Training the model\n",
        "from sklearn.neural_network import MLPClassifier\n",
        "model_mlp = MLPClassifier(hidden_layer_sizes=(100,100,100),batch_size=10,learning_rate_init=0.01,max_iter=2000,random_state=10)\n",
        "model_mlp.fit(X_train,y_train)"
      ]
    },
    {
      "cell_type": "code",
      "execution_count": null,
      "metadata": {
        "id": "sTNVFjjKe4dt"
      },
      "outputs": [],
      "source": [
        "# Predicting the model\n",
        "y_predict_mlp = model_mlp.predict(X_test)"
      ]
    },
    {
      "cell_type": "code",
      "execution_count": null,
      "metadata": {
        "id": "LBS_BtRme4dt",
        "outputId": "2434eb51-af70-40d9-c831-7ae79963b634"
      },
      "outputs": [
        {
          "name": "stdout",
          "output_type": "stream",
          "text": [
            "0.8861111111111111\n",
            "              precision    recall  f1-score   support\n",
            "\n",
            "           2       0.83      0.78      0.80        63\n",
            "           3       0.92      0.94      0.93       264\n",
            "           4       0.70      0.70      0.70        33\n",
            "\n",
            "    accuracy                           0.89       360\n",
            "   macro avg       0.82      0.80      0.81       360\n",
            "weighted avg       0.89      0.89      0.89       360\n",
            "\n"
          ]
        }
      ],
      "source": [
        "# Finding accuracy, precision, recall and confusion matrix\n",
        "print(accuracy_score(y_test,y_predict_mlp))\n",
        "print(classification_report(y_test,y_predict_mlp))"
      ]
    },
    {
      "cell_type": "code",
      "execution_count": null,
      "metadata": {
        "id": "fWOEtkAke4dt",
        "outputId": "85d78fdd-0c7a-4e83-e5cb-99fac93c3581"
      },
      "outputs": [
        {
          "data": {
            "text/plain": [
              "array([[ 49,  13,   1],\n",
              "       [  8, 247,   9],\n",
              "       [  2,   8,  23]])"
            ]
          },
          "execution_count": 114,
          "metadata": {},
          "output_type": "execute_result"
        }
      ],
      "source": [
        "confusion_matrix(y_test,y_predict_mlp)"
      ]
    },
    {
      "cell_type": "code",
      "execution_count": null,
      "metadata": {
        "id": "fthSL037e4dt",
        "outputId": "be68c58f-7bbd-4a90-97ad-ba95050d0e73"
      },
      "outputs": [
        {
          "data": {
            "text/plain": [
              "['EmpPerf.h5']"
            ]
          },
          "execution_count": 115,
          "metadata": {},
          "output_type": "execute_result"
        }
      ],
      "source": [
        "# Exporting the trained model\n",
        "from sklearn.externals import joblib\n",
        "joblib.dump(model_gridrf,'EmpPerf.h5')"
      ]
    }
  ],
  "metadata": {
    "kernelspec": {
      "display_name": "Python 3",
      "language": "python",
      "name": "python3"
    },
    "language_info": {
      "codemirror_mode": {
        "name": "ipython",
        "version": 3
      },
      "file_extension": ".py",
      "mimetype": "text/x-python",
      "name": "python",
      "nbconvert_exporter": "python",
      "pygments_lexer": "ipython3",
      "version": "3.7.6"
    },
    "colab": {
      "provenance": []
    }
  },
  "nbformat": 4,
  "nbformat_minor": 0
}